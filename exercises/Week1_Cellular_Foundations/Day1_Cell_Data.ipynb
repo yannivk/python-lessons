{
 "cells": [
  {
   "cell_type": "markdown",
   "metadata": {},
   "source": [
    "# Day 1: Cancer Drug Effectiveness Analysis\n",
    "*Learning Python Variables Through Real Research Data*\n",
    "\n",
    "---\n",
    "\n",
    "## The Research Question\n",
    "\n",
    "**\"How effective is this cancer drug treatment?\"**\n",
    "\n",
    "A cancer research lab has collected data from an experiment testing a chemotherapy drug. Your job: analyze this data to determine treatment effectiveness and explore dose-response relationships.\n",
    "\n",
    "Today you'll learn how to use **Python variables** to store and analyze experimental data.\n",
    "\n",
    "---"
   ]
  },
  {
   "cell_type": "markdown",
   "metadata": {},
   "source": [
    "## 🔬 The Biological Context\n",
    "\n",
    "Imagine you're a cancer researcher who just finished a crucial experiment:\n",
    "\n",
    "- **Before treatment**: 500,000 cancer cells in culture\n",
    "- **Drug concentration**: 2.5 micrograms per milliliter  \n",
    "- **Treatment duration**: 48 hours\n",
    "- **After treatment**: 47,000 cells survived\n",
    "- **Cell type**: \"HeLa\" (a famous cancer cell line)\n",
    "- **Drug name**: \"Cisplatin\"\n",
    "\n",
    "**Your biological question:** How effective was this treatment? What percentage of cells survived?\n",
    "\n",
    "**Your coding challenge:** Store this information in Python so we can analyze it."
   ]
  },
  {
   "cell_type": "markdown",
   "metadata": {},
   "source": [
    "## 💡 About Variables\n",
    "\n",
    "**Variables** in Python are like labeled containers that store information. Just like a scientist labels test tubes and records measurements in a lab notebook, programmers use variables to store and organize data.\n",
    "\n",
    "**Good variable naming:**\n",
    "- Use descriptive names: `cell_count` instead of `x`\n",
    "- Use lowercase with underscores: `initial_cell_count`\n",
    "- Make it clear what the variable represents"
   ]
  },
  {
   "cell_type": "markdown",
   "metadata": {},
   "source": [
    "## 🧪 Exercise 1: Store the Experimental Data\n",
    "\n",
    "**Your task:** Create variables to store each piece of experimental data.\n",
    "\n",
    "**Programming concept:** Variables can store different types of data:\n",
    "- Numbers (integers and decimals)\n",
    "- Text (strings - always in quotes)\n",
    "\n",
    "**Tip:** Use descriptive names that make your code easy to understand."
   ]
  },
  {
   "cell_type": "code",
   "execution_count": 1,
   "metadata": {},
   "outputs": [
    {
     "name": "stdout",
     "output_type": "stream",
     "text": [
      "Experiment: Cisplatin treatment of HeLa cells\n",
      "Initial cells: 500000\n",
      "Surviving cells: 47000\n"
     ]
    }
   ],
   "source": [
    "# Store the experimental data in variables\n",
    "# Data from the experiment:\n",
    "# - Before treatment: 500,000 cancer cells\n",
    "# - Drug concentration: 2.5 micrograms per mL\n",
    "# - Treatment duration: 48 hours  \n",
    "# - After treatment: 47,000 cells survived\n",
    "# - Cell type: \"HeLa\"\n",
    "# - Drug name: \"Cisplatin\"\n",
    "\n",
    "\n",
    "# Your code here - create variables for each piece of data\n",
    "initial_cell_count = 500000\n",
    "drug_concentration = 2.5\n",
    "treatment_duration = 48\n",
    "surviving_cells = 47000\n",
    "cell_type = \"HeLa\"\n",
    "drug_name = \"Cisplatin\"\n",
    "\n",
    "# Print your data to verify it's stored correctly\n",
    "print(f\"Experiment: {drug_name} treatment of {cell_type} cells\")\n",
    "print(f\"Initial cells: {initial_cell_count}\")\n",
    "print(f\"Surviving cells: {surviving_cells}\")"
   ]
  },
  {
   "cell_type": "markdown",
   "metadata": {},
   "source": [
    "## 🧪 Exercise 2: Calculate Treatment Effectiveness\n",
    "\n",
    "**Your research question:** What percentage of cells died? What percentage survived?\n",
    "\n",
    "**Mathematical approach:** \n",
    "- Cell death rate = (cells that died / initial cells) × 100\n",
    "- Survival rate = (surviving cells / initial cells) × 100\n",
    "\n",
    "**Programming concept:** You can use variables in calculations and store results in new variables."
   ]
  },
  {
   "cell_type": "code",
   "execution_count": 2,
   "metadata": {},
   "outputs": [
    {
     "name": "stdout",
     "output_type": "stream",
     "text": [
      "Treatment Results for HeLa cells:\n",
      "Death rate: 90.60000000000001%\n",
      "Survival rate: 9.4%\n",
      "Number of cells that died: 453000\n"
     ]
    }
   ],
   "source": [
    "# Calculate treatment effectiveness\n",
    "# Use the variables you created above\n",
    "\n",
    "# Calculate how many cells died\n",
    "cells_died = initial_cell_count - surviving_cells\n",
    "# Calculate death rate as a percentage\n",
    "death_rate_percent = (cells_died/initial_cell_count)*100\n",
    "# Calculate survival rate as a percentage  \n",
    "survival_rate_percent = (surviving_cells/initial_cell_count)*100\n",
    "# Display your results\n",
    "print(f\"Treatment Results for {cell_type} cells:\")\n",
    "print(f\"Death rate: {death_rate_percent}%\")\n",
    "print(f\"Survival rate: {survival_rate_percent}%\")\n",
    "print(f\"Number of cells that died: {cells_died}\")"
   ]
  },
  {
   "cell_type": "markdown",
   "metadata": {},
   "source": [
    "## 🧪 Exercise 3: Compare with Research Standards\n",
    "\n",
    "**Research context:** In cancer research, a drug is typically considered:\n",
    "- **Highly effective** if survival rate < 20%\n",
    "- **Moderately effective** if survival rate is 20-50%\n",
    "- **Minimally effective** if survival rate > 50%\n",
    "\n",
    "**Programming concept:** You can use conditional logic (if/elif/else) to categorize data."
   ]
  },
  {
   "cell_type": "code",
   "execution_count": 4,
   "metadata": {},
   "outputs": [
    {
     "name": "stdout",
     "output_type": "stream",
     "text": [
      "\n",
      "Treatment Effectiveness Analysis:\n",
      "Survival rate: 9.4%\n",
      "Classification: high\n",
      "\n",
      "Final assessment: Cisplatin is highly effective against HeLa cells\n"
     ]
    }
   ],
   "source": [
    "# Define effectiveness thresholds\n",
    "# Highly effective: survival rate < 20%\n",
    "# Moderately effective: survival rate 20-50%  \n",
    "# Minimally effective: survival rate > 50%\n",
    "\n",
    "# Create variables for the threshold values\n",
    "high_effectiveness = 20\n",
    "moderate_effectiveness_min = 20\n",
    "moderate_effectiveness_max = 50\n",
    "minimal_effectiveness = 50\n",
    "# Determine effectiveness category using if/elif/else\n",
    "print(f\"\\nTreatment Effectiveness Analysis:\")\n",
    "print(f\"Survival rate: {survival_rate_percent}%\")\n",
    "\n",
    "# Your conditional logic here\n",
    "if survival_rate_percent < high_effectiveness:\n",
    "    effectiveness = \"high\"\n",
    "elif survival_rate_percent < moderate_effectiveness_max:\n",
    "    effectiveness = \"moderate\"\n",
    "else:\n",
    "    effectiveness = \"low\"\n",
    "\n",
    "if effectiveness == \"high\":\n",
    "    treatment_effectiveness = \"highly effective\"\n",
    "elif effectiveness == \"moderate\":\n",
    "    treatment_effectiveness = \"moderately effective\"\n",
    "else:\n",
    "    treatment_effectiveness = \"lowly effective\"\n",
    "\n",
    "print(f\"Classification: {effectiveness}\")\n",
    "print(f\"\\nFinal assessment: {drug_name} is {treatment_effectiveness} against {cell_type} cells\")"
   ]
  },
  {
   "cell_type": "markdown",
   "metadata": {},
   "source": [
    "## 🧪 Lab Exercise 4: Drug Concentration Impact\n",
    "\n",
    "**New biological data:** Your lab tested the same drug at different concentrations:\n",
    "\n",
    "- **Low dose (1.0 μg/mL)**: 15% cell death\n",
    "- **Medium dose (2.5 μg/mL)**: Your result from above\n",
    "- **High dose (5.0 μg/mL)**: 95% cell death\n",
    "\n",
    "**Your task:** Store this data and find the relationship between dose and effectiveness."
   ]
  },
  {
   "cell_type": "code",
   "execution_count": null,
   "metadata": {},
   "outputs": [],
   "source": [
    "# Store dose-response data\n",
    "# Low dose (1.0 μg/mL): 15% cell death\n",
    "# Medium dose (2.5 μg/mL): Your result from above\n",
    "# High dose (5.0 μg/mL): 95% cell death\n",
    "\n",
    "# Create variables for all the dose data\n",
    "low_dose_concentration = 1.0\n",
    "low_dose_death_rate = 15\n",
    "medium_dose_concentration = 2.5\n",
    "medium_dose_death_rate = death_rate_percent  # Use the calculated value from above\n",
    "high_dose_concentration = 5.0\n",
    "high_dose_death_rate = 95\n",
    "\n",
    "# Calculate death rate per unit concentration for each dose (efficiency)\n",
    "low_dose_efficiency = low_dose_death_rate / low_dose_concentration\n",
    "medium_dose_efficiency = medium_dose_death_rate / medium_dose_concentration\n",
    "high_dose_efficiency = high_dose_death_rate / high_dose_concentration\n",
    "\n",
    "# Print the results\n",
    "print(\"Dose-Response Analysis:\")\n",
    "print(f\"Low dose ({low_dose_concentration} μg/mL): {low_dose_death_rate}% death rate\")\n",
    "print(f\"Medium dose ({medium_dose_concentration} μg/mL): {medium_dose_death_rate:.1f}% death rate\")\n",
    "print(f\"High dose ({high_dose_concentration} μg/mL): {high_dose_death_rate}% death rate\")\n",
    "\n",
    "print(f\"\\nEfficiency (death rate per μg/mL):\")\n",
    "print(f\"Low dose efficiency: {low_dose_efficiency:.1f}%/μg/mL\")\n",
    "print(f\"Medium dose efficiency: {medium_dose_efficiency:.1f}%/μg/mL\")\n",
    "print(f\"High dose efficiency: {high_dose_efficiency:.1f}%/μg/mL\")"
   ]
  },
  {
   "cell_type": "markdown",
   "metadata": {},
   "source": [
    "## 🤔 Research Reflection\n",
    "\n",
    "**Answer these questions by modifying the text below:**\n",
    "\n",
    "1. **What does the dose-response data tell you about this drug?**\n",
    "   The drug is highly effective against HeLa cells\n",
    "\n",
    "2. **Why might some cancer cells survive even high drug concentrations?**\n",
    "   They could be resistant\n",
    "\n",
    "3. **How do variables help organize experimental data for analysis?**\n",
    "   They neatly organize and store the data so it can reliably be reused and retrieved"
   ]
  },
  {
   "cell_type": "markdown",
   "metadata": {},
   "source": [
    "## 🎯 Key Learning Points\n",
    "\n",
    "### Research Skills:\n",
    "- Analyzing dose-response relationships in drug studies\n",
    "- Interpreting cancer treatment effectiveness data\n",
    "- Understanding experimental data organization\n",
    "\n",
    "### Programming Skills:\n",
    "- **Variables** store different types of data (numbers and text)\n",
    "- **Descriptive naming** makes code readable and maintainable\n",
    "- **Mathematical operations** can be performed with variables\n",
    "- **Conditional logic** helps categorize and interpret results\n",
    "\n",
    "---\n",
    "\n",
    "## 📋 Next Steps\n",
    "\n",
    "1. **Save this notebook** with your completed solutions\n",
    "2. **Ask Claude Code to review your work** for feedback and next steps\n",
    "3. **Reflect on the process**: What programming concepts felt intuitive? What was challenging?\n",
    "\n",
    "*Great work analyzing real research data with Python!*"
   ]
  },
  {
   "cell_type": "code",
   "execution_count": 6,
   "id": "v5uqv18sr3g",
   "metadata": {},
   "outputs": [
    {
     "name": "stdout",
     "output_type": "stream",
     "text": [
      "Dose-Response Analysis:\n",
      "Low dose (1.0 μg/mL): 15% death rate\n",
      "Medium dose (2.5 μg/mL): 90.6% death rate\n",
      "High dose (5.0 μg/mL): 95% death rate\n",
      "\n",
      "Efficiency (death rate per μg/mL):\n",
      "Low dose efficiency: 15.0%/μg/mL\n",
      "Medium dose efficiency: 36.2%/μg/mL\n",
      "High dose efficiency: 19.0%/μg/mL\n"
     ]
    }
   ],
   "source": [
    "# Store dose-response data\n",
    "# Low dose (1.0 μg/mL): 15% cell death\n",
    "# Medium dose (2.5 μg/mL): Your result from above\n",
    "# High dose (5.0 μg/mL): 95% cell death\n",
    "\n",
    "# First need the death_rate_percent from earlier\n",
    "initial_cell_count = 500000\n",
    "surviving_cells = 47000\n",
    "cells_died = initial_cell_count - surviving_cells\n",
    "death_rate_percent = (cells_died/initial_cell_count)*100\n",
    "\n",
    "# Create variables for all the dose data\n",
    "low_dose_concentration = 1.0\n",
    "low_dose_death_rate = 15\n",
    "medium_dose_concentration = 2.5\n",
    "medium_dose_death_rate = death_rate_percent  # Use the calculated value from above\n",
    "high_dose_concentration = 5.0\n",
    "high_dose_death_rate = 95\n",
    "\n",
    "# Calculate death rate per unit concentration for each dose (efficiency)\n",
    "low_dose_efficiency = low_dose_death_rate / low_dose_concentration\n",
    "medium_dose_efficiency = medium_dose_death_rate / medium_dose_concentration\n",
    "high_dose_efficiency = high_dose_death_rate / high_dose_concentration\n",
    "\n",
    "# Print the results\n",
    "print(\"Dose-Response Analysis:\")\n",
    "print(f\"Low dose ({low_dose_concentration} μg/mL): {low_dose_death_rate}% death rate\")\n",
    "print(f\"Medium dose ({medium_dose_concentration} μg/mL): {medium_dose_death_rate:.1f}% death rate\")\n",
    "print(f\"High dose ({high_dose_concentration} μg/mL): {high_dose_death_rate}% death rate\")\n",
    "\n",
    "print(f\"\\nEfficiency (death rate per μg/mL):\")\n",
    "print(f\"Low dose efficiency: {low_dose_efficiency:.1f}%/μg/mL\")\n",
    "print(f\"Medium dose efficiency: {medium_dose_efficiency:.1f}%/μg/mL\")\n",
    "print(f\"High dose efficiency: {high_dose_efficiency:.1f}%/μg/mL\")"
   ]
  }
 ],
 "metadata": {
  "kernelspec": {
   "display_name": "scRNA-seq",
   "language": "python",
   "name": "python3"
  },
  "language_info": {
   "codemirror_mode": {
    "name": "ipython",
    "version": 3
   },
   "file_extension": ".py",
   "mimetype": "text/x-python",
   "name": "python",
   "nbconvert_exporter": "python",
   "pygments_lexer": "ipython3",
   "version": "3.12.9"
  }
 },
 "nbformat": 4,
 "nbformat_minor": 4
}
