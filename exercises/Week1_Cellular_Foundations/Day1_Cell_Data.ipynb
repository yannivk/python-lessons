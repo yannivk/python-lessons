{
 "cells": [
  {
   "cell_type": "markdown",
   "metadata": {},
   "source": [
    "# Day 1: Cancer Drug Effectiveness Analysis\n",
    "*Learning Python Variables Through Real Research Data*\n",
    "\n",
    "---\n",
    "\n",
    "## The Research Question\n",
    "\n",
    "**\"How effective is this cancer drug treatment?\"**\n",
    "\n",
    "A cancer research lab has collected data from an experiment testing a chemotherapy drug. Your job: analyze this data to determine treatment effectiveness and explore dose-response relationships.\n",
    "\n",
    "Today you'll learn how to use **Python variables** to store and analyze experimental data.\n",
    "\n",
    "---"
   ]
  },
  {
   "cell_type": "markdown",
   "metadata": {},
   "source": [
    "## 🔬 The Biological Context\n",
    "\n",
    "Imagine you're a cancer researcher who just finished a crucial experiment:\n",
    "\n",
    "- **Before treatment**: 500,000 cancer cells in culture\n",
    "- **Drug concentration**: 2.5 micrograms per milliliter  \n",
    "- **Treatment duration**: 48 hours\n",
    "- **After treatment**: 47,000 cells survived\n",
    "- **Cell type**: \"HeLa\" (a famous cancer cell line)\n",
    "- **Drug name**: \"Cisplatin\"\n",
    "\n",
    "**Your biological question:** How effective was this treatment? What percentage of cells survived?\n",
    "\n",
    "**Your coding challenge:** Store this information in Python so we can analyze it."
   ]
  },
  {
   "cell_type": "markdown",
   "metadata": {},
   "source": [
    "## 💡 About Variables\n",
    "\n",
    "**Variables** in Python are like labeled containers that store information. Just like a scientist labels test tubes and records measurements in a lab notebook, programmers use variables to store and organize data.\n",
    "\n",
    "**Good variable naming:**\n",
    "- Use descriptive names: `cell_count` instead of `x`\n",
    "- Use lowercase with underscores: `initial_cell_count`\n",
    "- Make it clear what the variable represents"
   ]
  },
  {
   "cell_type": "markdown",
   "metadata": {},
   "source": [
    "## 🧪 Exercise 1: Store the Experimental Data\n",
    "\n",
    "**Your task:** Create variables to store each piece of experimental data.\n",
    "\n",
    "**Programming concept:** Variables can store different types of data:\n",
    "- Numbers (integers and decimals)\n",
    "- Text (strings - always in quotes)\n",
    "\n",
    "**Tip:** Use descriptive names that make your code easy to understand."
   ]
  },
  {
   "cell_type": "code",
   "metadata": {},
   "outputs": [],
   "source": "# Store the experimental data in variables\n# Data from the experiment:\n# - Before treatment: 500,000 cancer cells\n# - Drug concentration: 2.5 micrograms per mL\n# - Treatment duration: 48 hours  \n# - After treatment: 47,000 cells survived\n# - Cell type: \"HeLa\"\n# - Drug name: \"Cisplatin\"\n\n# Your code here - create variables for each piece of data\n\n# Print your data to verify it's stored correctly\nprint(f\"Experiment: {drug_name} treatment of {cell_type} cells\")\nprint(f\"Initial cells: {initial_cell_count}\")\nprint(f\"Surviving cells: {surviving_cells}\")"
  },
  {
   "cell_type": "markdown",
   "metadata": {},
   "source": [
    "## 🧪 Exercise 2: Calculate Treatment Effectiveness\n",
    "\n",
    "**Your research question:** What percentage of cells died? What percentage survived?\n",
    "\n",
    "**Mathematical approach:** \n",
    "- Cell death rate = (cells that died / initial cells) × 100\n",
    "- Survival rate = (surviving cells / initial cells) × 100\n",
    "\n",
    "**Programming concept:** You can use variables in calculations and store results in new variables."
   ]
  },
  {
   "cell_type": "code",
   "metadata": {},
   "outputs": [],
   "source": "# Calculate treatment effectiveness\n# Use the variables you created above\n\n# Calculate how many cells died\n\n# Calculate death rate as a percentage\n\n# Calculate survival rate as a percentage  \n\n# Display your results\nprint(f\"Treatment Results for {cell_type} cells:\")\nprint(f\"Death rate: {death_rate_percent}%\")\nprint(f\"Survival rate: {survival_rate_percent}%\")\nprint(f\"Number of cells that died: {cells_died}\")"
  },
  {
   "cell_type": "markdown",
   "metadata": {},
   "source": [
    "## 🧪 Exercise 3: Compare with Research Standards\n",
    "\n",
    "**Research context:** In cancer research, a drug is typically considered:\n",
    "- **Highly effective** if survival rate < 20%\n",
    "- **Moderately effective** if survival rate is 20-50%\n",
    "- **Minimally effective** if survival rate > 50%\n",
    "\n",
    "**Programming concept:** You can use conditional logic (if/elif/else) to categorize data."
   ]
  },
  {
   "cell_type": "code",
   "metadata": {},
   "outputs": [],
   "source": "# Define effectiveness thresholds\n# Highly effective: survival rate < 20%\n# Moderately effective: survival rate 20-50%  \n# Minimally effective: survival rate > 50%\n\n# Create variables for the threshold values\n\n# Determine effectiveness category using if/elif/else\nprint(f\"\\nTreatment Effectiveness Analysis:\")\nprint(f\"Survival rate: {survival_rate_percent}%\")\n\n# Your conditional logic here\n\nprint(f\"Classification: {effectiveness}\")\nprint(f\"\\nFinal assessment: {drug_name} is {treatment_effectiveness} against {cell_type} cells\")"
  },
  {
   "cell_type": "markdown",
   "metadata": {},
   "source": [
    "## 🧪 Lab Exercise 4: Drug Concentration Impact\n",
    "\n",
    "**New biological data:** Your lab tested the same drug at different concentrations:\n",
    "\n",
    "- **Low dose (1.0 μg/mL)**: 15% cell death\n",
    "- **Medium dose (2.5 μg/mL)**: Your result from above\n",
    "- **High dose (5.0 μg/mL)**: 95% cell death\n",
    "\n",
    "**Your task:** Store this data and find the relationship between dose and effectiveness."
   ]
  },
  {
   "cell_type": "code",
   "metadata": {},
   "outputs": [],
   "source": "# Store dose-response data\n# Low dose (1.0 μg/mL): 15% cell death\n# Medium dose (2.5 μg/mL): Your result from above\n# High dose (5.0 μg/mL): 95% cell death\n\n# Create variables for all the dose data\n\n# Calculate death rate per unit concentration for each dose (efficiency)\n\n# Print the results\nprint(\"Dose-Response Analysis:\")\nprint(f\"Low dose ({low_dose_concentration} μg/mL): {low_dose_death_rate}% death rate\")\nprint(f\"Medium dose ({medium_dose_concentration} μg/mL): {medium_dose_death_rate}% death rate\")\nprint(f\"High dose ({high_dose_concentration} μg/mL): {high_dose_death_rate}% death rate\")\n\nprint(f\"\\nEfficiency (death rate per μg/mL):\")\nprint(f\"Low dose efficiency: {low_dose_efficiency}%/μg/mL\")\nprint(f\"Medium dose efficiency: {medium_dose_efficiency}%/μg/mL\")\nprint(f\"High dose efficiency: {high_dose_efficiency}%/μg/mL\")"
  },
  {
   "cell_type": "markdown",
   "metadata": {},
   "source": [
    "## 🤔 Research Reflection\n",
    "\n",
    "**Answer these questions by modifying the text below:**\n",
    "\n",
    "1. **What does the dose-response data tell you about this drug?**\n",
    "   *Your biological interpretation here...*\n",
    "\n",
    "2. **Why might some cancer cells survive even high drug concentrations?**\n",
    "   *Your thoughts here...*\n",
    "\n",
    "3. **How do variables help organize experimental data for analysis?**\n",
    "   *Your programming insight here...*"
   ]
  },
  {
   "cell_type": "markdown",
   "metadata": {},
   "source": [
    "## 🎯 Key Learning Points\n",
    "\n",
    "### Research Skills:\n",
    "- Analyzing dose-response relationships in drug studies\n",
    "- Interpreting cancer treatment effectiveness data\n",
    "- Understanding experimental data organization\n",
    "\n",
    "### Programming Skills:\n",
    "- **Variables** store different types of data (numbers and text)\n",
    "- **Descriptive naming** makes code readable and maintainable\n",
    "- **Mathematical operations** can be performed with variables\n",
    "- **Conditional logic** helps categorize and interpret results\n",
    "\n",
    "---\n",
    "\n",
    "## 📋 Next Steps\n",
    "\n",
    "1. **Save this notebook** with your completed solutions\n",
    "2. **Ask Claude Code to review your work** for feedback and next steps\n",
    "3. **Reflect on the process**: What programming concepts felt intuitive? What was challenging?\n",
    "\n",
    "*Great work analyzing real research data with Python!*"
   ]
  }
 ],
 "metadata": {
  "kernelspec": {
   "display_name": "Python 3",
   "language": "python",
   "name": "python3"
  },
  "language_info": {
   "codemirror_mode": {
    "name": "ipython",
    "version": 3
   },
   "file_extension": ".py",
   "name": "python",
   "nbconvert_exporter": "python",
   "pygments_lexer": "ipython3",
   "version": "3.8.5"
  }
 },
 "nbformat": 4,
 "nbformat_minor": 4
}