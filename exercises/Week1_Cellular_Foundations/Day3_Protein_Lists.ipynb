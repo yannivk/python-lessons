{
 "cells": [
  {
   "cell_type": "markdown",
   "metadata": {},
   "source": [
    "# Day 3: The Protein Family Mystery 🧬\n",
    "*Lists as Protein Collections: Organizing Related Molecules*\n",
    "\n",
    "---\n",
    "\n",
    "## Today's Biological Mystery\n",
    "\n",
    "**\"Why do related proteins have similar but not identical functions?\"**\n",
    "\n",
    "You're studying a family of enzyme proteins that all break down different types of sugars. Some work on glucose, others on fructose, and some can handle multiple sugars. Your mission: organize and analyze this protein family to understand their relationships.\n",
    "\n",
    "Today you'll learn that **lists in Python are like protein families** - collections of related items that you can organize, sort, and analyze together.\n",
    "\n",
    "---"
   ]
  },
  {
   "cell_type": "markdown",
   "metadata": {},
   "source": [
    "## 🔬 The Biological Context\n",
    "\n",
    "**Your protein family data:**\n",
    "- **Protein names:** [\"Glucosidase\", \"Fructosidase\", \"Sucrase\", \"Lactase\", \"Maltase\"]\n",
    "- **Activity levels:** [85, 92, 78, 65, 88] (units per minute)\n",
    "- **Substrate specificity:** [\"Glucose\", \"Fructose\", \"Sucrose\", \"Lactose\", \"Maltose\"]\n",
    "- **Tissue locations:** [\"Liver\", \"Intestine\", \"Intestine\", \"Intestine\", \"Intestine\"]\n",
    "\n",
    "**Your biological questions:**\n",
    "1. Which protein has the highest activity?\n",
    "2. How many intestinal enzymes are there?\n",
    "3. What's the average activity across the family?\n",
    "4. Are there any patterns in substrate specificity?\n",
    "\n",
    "**Your coding challenge:** Use Python lists to organize and analyze biological collections."
   ]
  },
  {
   "cell_type": "markdown",
   "metadata": {},
   "source": [
    "## 💡 The Biological Analogy\n",
    "\n",
    "Think of **Python lists like protein families**:\n",
    "\n",
    "| Protein Biology | Python Programming |\n",
    "|---|---|\n",
    "| **Protein family** (related enzymes) | **List** [item1, item2, item3] |\n",
    "| **First protein** in family | **First item** list[0] |\n",
    "| **Family size** (number of proteins) | **List length** len(list) |\n",
    "| **Add new protein** to family | **Append item** list.append() |\n",
    "| **Sort proteins** by activity | **Sort list** list.sort() |\n",
    "| **Check if protein exists** | **Check membership** item in list |\n",
    "| **Remove inactive protein** | **Remove item** list.remove() |\n",
    "\n",
    "Just like protein families group related molecules with similar functions, lists group related data that you can analyze together!"
   ]
  },
  {
   "cell_type": "markdown",
   "metadata": {},
   "source": [
    "## 🧪 Lab Exercise 1: Create Your Protein Database\n",
    "\n",
    "**Your task:** Store the protein family data in organized lists.\n",
    "\n",
    "**Think like a biochemist:** You'd organize proteins by their properties to study structure-function relationships."
   ]
  },
  {
   "cell_type": "code",
   "execution_count": 2,
   "metadata": {},
   "outputs": [
    {
     "name": "stdout",
     "output_type": "stream",
     "text": [
      "['Glucosidase', 'Fructosidase', 'Sucrase', 'Lactase', 'Maltase']\n",
      "[85, 92, 78, 65, 88]\n",
      "['Glucose', 'Fructose', 'Sucrose', 'Lactose', 'Maltose']\n",
      "['Liver', 'Intestine', 'Intestine', 'Intestine', 'Intestine']\n"
     ]
    }
   ],
   "source": [
    "# Your code here - create lists for each protein property\n",
    "protein_names = [\"Glucosidase\", \"Fructosidase\", \"Sucrase\", \"Lactase\", \"Maltase\"]\n",
    "activity_levels = [85, 92, 78, 65, 88]\n",
    "substrates = [\"Glucose\", \"Fructose\", \"Sucrose\", \"Lactose\", \"Maltose\"]\n",
    "tissue_locations = [\"Liver\", \"Intestine\", \"Intestine\", \"Intestine\", \"Intestine\"]\n",
    "\n",
    "# Your code here - display the protein family\n",
    "print(protein_names)\n",
    "print(activity_levels)\n",
    "print(substrates)\n",
    "print(tissue_locations)"
   ]
  },
  {
   "cell_type": "markdown",
   "metadata": {},
   "source": [
    "## 🧪 Lab Exercise 2: Find the Most Active Protein\n",
    "\n",
    "**Biological goal:** Identify which enzyme has the highest catalytic activity.\n",
    "\n",
    "**Your task:** Use list methods to find the maximum activity and corresponding protein."
   ]
  },
  {
   "cell_type": "code",
   "execution_count": 9,
   "metadata": {},
   "outputs": [
    {
     "name": "stdout",
     "output_type": "stream",
     "text": [
      "92\n",
      "1\n",
      "Fructosidase\n",
      "65\n",
      "Lactase\n"
     ]
    }
   ],
   "source": [
    "# Your code here - find the highest activity level\n",
    "import numpy as np\n",
    "max_activity = np.max(activity_levels)\n",
    "print(max_activity)\n",
    "\n",
    "\n",
    "# Your code here - find which protein has this activity\n",
    "index_of_interest = activity_levels.index(max_activity)\n",
    "print(index_of_interest)\n",
    "protein_max_activity = protein_names[index_of_interest]\n",
    "print(protein_max_activity)\n",
    "\n",
    "# Your code here - find the least active protein for comparison\n",
    "min_activity = np.min(activity_levels)\n",
    "print(min_activity)\n",
    "protein_min_activity = protein_names[activity_levels.index(min_activity)]\n",
    "print(protein_min_activity)\n"
   ]
  },
  {
   "cell_type": "markdown",
   "metadata": {},
   "source": [
    "## 🧪 Lab Exercise 3: Analyze Tissue Distribution\n",
    "\n",
    "**Biological context:** Protein location often relates to function - digestive enzymes cluster in intestines, metabolic enzymes in liver.\n",
    "\n",
    "**Your task:** Count how many proteins are found in each tissue type."
   ]
  },
  {
   "cell_type": "code",
   "execution_count": 13,
   "metadata": {},
   "outputs": [
    {
     "name": "stdout",
     "output_type": "stream",
     "text": [
      "['Intestine' 'Liver']\n"
     ]
    },
    {
     "data": {
      "text/plain": [
       "4"
      ]
     },
     "execution_count": 13,
     "metadata": {},
     "output_type": "execute_result"
    }
   ],
   "source": [
    "# Your code here - count proteins by tissue location\n",
    "print(np.unique(tissue_locations))\n",
    "print(tissue_locations.count(\"Intestine\"))\n",
    "print(tissue_locations.count(\"Liver\"))\n",
    "\n",
    "# Your code here - find all unique tissue types\n",
    "print(np.unique(tissue_locations))"
   ]
  },
  {
   "cell_type": "markdown",
   "metadata": {},
   "source": [
    "## 🧪 Lab Exercise 4: Calculate Family Statistics\n",
    "\n",
    "**Your task:** Compute statistical measures to understand the protein family's characteristics.\n",
    "\n",
    "**Think like a bioinformatician:** Statistical analysis reveals patterns in protein families."
   ]
  },
  {
   "cell_type": "code",
   "execution_count": 21,
   "metadata": {},
   "outputs": [
    {
     "name": "stdout",
     "output_type": "stream",
     "text": [
      "408\n",
      "92\n",
      "65\n",
      "81.6\n",
      "5\n",
      "Proteins above average: ['Glucosidase' 'Fructosidase' 'Maltase']\n",
      "Proteins below average: ['Sucrase' 'Lactase']\n"
     ]
    }
   ],
   "source": [
    "# Your code here - calculate basic statistics\n",
    "# Hint: Use sum(), len(), max(), min() functions\n",
    "total_activity = np.sum(activity_levels)\n",
    "print(total_activity)\n",
    "max_activity = np.max(activity_levels)\n",
    "print(max_activity)\n",
    "min_activity = np.min(activity_levels)\n",
    "print(min_activity)\n",
    "avg_activity = np.mean(activity_levels)\n",
    "print(avg_activity)\n",
    "print(len(activity_levels))\n",
    "\n",
    "# Your code here - find proteins above and below average\n",
    "import numpy as np\n",
    "\n",
    "activity_levels = np.array(activity_levels)\n",
    "protein_names = np.array(protein_names) \n",
    "\n",
    "above_avg_indices = np.where(activity_levels > avg_activity)[0]\n",
    "below_avg_indices = np.where(activity_levels < avg_activity)[0]\n",
    "\n",
    "# Get the corresponding protein names\n",
    "proteins_above_avg = protein_names[above_avg_indices]\n",
    "proteins_below_avg = protein_names[below_avg_indices]\n",
    "\n",
    "print(\"Proteins above average:\", proteins_above_avg)\n",
    "print(\"Proteins below average:\", proteins_below_avg)"
   ]
  },
  {
   "cell_type": "markdown",
   "metadata": {},
   "source": [
    "## 🧪 Lab Exercise 5: Protein Family Expansion\n",
    "\n",
    "**Biological scenario:** Your lab discovers a new enzyme in this family!\n",
    "\n",
    "**New protein data:**\n",
    "- Name: \"Trehalase\"\n",
    "- Activity: 95 units/min\n",
    "- Substrate: \"Trehalose\"\n",
    "- Location: \"Muscle\"\n",
    "\n",
    "**Your task:** Add this protein to your database and update your analysis."
   ]
  },
  {
   "cell_type": "code",
   "execution_count": null,
   "metadata": {},
   "outputs": [],
   "source": [
    "# Add the new protein to each list\n",
    "new_protein_name = \"Trehalase\"\n",
    "new_activity = 95\n",
    "new_substrate = \"Trehalose\"\n",
    "new_location = \"Muscle\"\n",
    "\n",
    "# Your code here - expand the protein family\n",
    "# Hint: Use .append() method to add to each list\n",
    "\n",
    "\n",
    "# Your code here - recalculate statistics with new protein"
   ]
  },
  {
   "cell_type": "markdown",
   "metadata": {},
   "source": [
    "## 🧪 Lab Exercise 6: Sort and Rank Proteins\n",
    "\n",
    "**Your task:** Create a sorted ranking of proteins by activity level.\n",
    "\n",
    "**Biological insight:** Ranking helps identify the most catalytically efficient enzymes for potential therapeutic use."
   ]
  },
  {
   "cell_type": "code",
   "execution_count": null,
   "metadata": {},
   "outputs": [],
   "source": [
    "# Your code here - create a combined list for sorting\n",
    "# Hint: Create tuples or pairs of (protein_name, activity_level)\n",
    "\n",
    "\n",
    "# Your code here - sort by activity level (highest to lowest)\n",
    "# Hint: Use sorted() function with key parameter\n",
    "\n",
    "\n",
    "# Your code here - identify top performers and create performance tiers"
   ]
  },
  {
   "cell_type": "markdown",
   "metadata": {},
   "source": [
    "## 🤔 Biological Reflection\n",
    "\n",
    "**Answer these questions by modifying the text below:**\n",
    "\n",
    "1. **What patterns do you notice in the protein family's activity levels?**\n",
    "   *Your analysis here...*\n",
    "\n",
    "2. **Why might intestinal enzymes have different activities than liver enzymes?**\n",
    "   *Your biological reasoning here...*\n",
    "\n",
    "3. **How do Python lists help organize biological data compared to individual variables?**\n",
    "   *Your coding insight here...*\n",
    "\n",
    "4. **What would happen if you discovered an enzyme with 150 units/min activity?**\n",
    "   *Your prediction here...*"
   ]
  },
  {
   "cell_type": "markdown",
   "metadata": {},
   "source": [
    "## 🎯 Today's Key Insights\n",
    "\n",
    "### Biological Concepts:\n",
    "- Protein families and structure-function relationships\n",
    "- Enzyme activity and catalytic efficiency\n",
    "- Tissue-specific protein expression patterns\n",
    "- Comparative enzyme analysis\n",
    "\n",
    "### Programming Concepts:\n",
    "- **Lists** organize related data like protein families\n",
    "- **List indexing** accesses specific proteins by position\n",
    "- **List methods** (.append(), .count(), .index()) manipulate collections\n",
    "- **Loops** process entire protein families systematically\n",
    "- **Statistical functions** (max(), min(), sum()) analyze biological data\n",
    "- **Sorting** reveals patterns and rankings in datasets\n",
    "\n",
    "### The Connection:\n",
    "Just as biochemists group related proteins into families to study evolutionary relationships and functional patterns, programmers use lists to organize related data for systematic analysis!\n",
    "\n",
    "---\n",
    "\n",
    "## 📋 Before You Finish\n",
    "\n",
    "1. **Save this notebook** with your completed solutions\n",
    "2. **Ask Claude Code to review your work**: \"Claude, please review my Day3_Protein_Lists.ipynb notebook\"\n",
    "3. **Connect concepts**: How do variables (Day 1), strings (Day 2), and lists (Day 3) work together?\n",
    "4. **Preview tomorrow**: Day 4 explores enzyme functions as Python functions\n",
    "\n",
    "**Tomorrow's mystery:** \"How do enzymes accelerate specific reactions while ignoring others?\"\n",
    "\n",
    "*Outstanding work organizing life's molecular machinery! 🧬📊*"
   ]
  }
 ],
 "metadata": {
  "kernelspec": {
   "display_name": "scRNA-seq",
   "language": "python",
   "name": "python3"
  },
  "language_info": {
   "codemirror_mode": {
    "name": "ipython",
    "version": 3
   },
   "file_extension": ".py",
   "mimetype": "text/x-python",
   "name": "python",
   "nbconvert_exporter": "python",
   "pygments_lexer": "ipython3",
   "version": "3.12.9"
  }
 },
 "nbformat": 4,
 "nbformat_minor": 4
}
