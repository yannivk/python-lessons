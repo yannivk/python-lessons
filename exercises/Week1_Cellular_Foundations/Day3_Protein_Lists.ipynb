{
 "cells": [
  {
   "cell_type": "markdown",
   "metadata": {},
   "source": [
    "# Day 3: The Protein Family Mystery 🧬\n",
    "*Lists as Protein Collections: Organizing Related Molecules*\n",
    "\n",
    "---\n",
    "\n",
    "## Today's Biological Mystery\n",
    "\n",
    "**\"Why do related proteins have similar but not identical functions?\"**\n",
    "\n",
    "You're studying a family of enzyme proteins that all break down different types of sugars. Some work on glucose, others on fructose, and some can handle multiple sugars. Your mission: organize and analyze this protein family to understand their relationships.\n",
    "\n",
    "Today you'll learn that **lists in Python are like protein families** - collections of related items that you can organize, sort, and analyze together.\n",
    "\n",
    "---"
   ]
  },
  {
   "cell_type": "markdown",
   "metadata": {},
   "source": [
    "## 🔬 The Biological Context\n",
    "\n",
    "**Your protein family data:**\n",
    "- **Protein names:** [\"Glucosidase\", \"Fructosidase\", \"Sucrase\", \"Lactase\", \"Maltase\"]\n",
    "- **Activity levels:** [85, 92, 78, 65, 88] (units per minute)\n",
    "- **Substrate specificity:** [\"Glucose\", \"Fructose\", \"Sucrose\", \"Lactose\", \"Maltose\"]\n",
    "- **Tissue locations:** [\"Liver\", \"Intestine\", \"Intestine\", \"Intestine\", \"Intestine\"]\n",
    "\n",
    "**Your biological questions:**\n",
    "1. Which protein has the highest activity?\n",
    "2. How many intestinal enzymes are there?\n",
    "3. What's the average activity across the family?\n",
    "4. Are there any patterns in substrate specificity?\n",
    "\n",
    "**Your coding challenge:** Use Python lists to organize and analyze biological collections."
   ]
  },
  {
   "cell_type": "markdown",
   "metadata": {},
   "source": [
    "## 💡 The Biological Analogy\n",
    "\n",
    "Think of **Python lists like protein families**:\n",
    "\n",
    "| Protein Biology | Python Programming |\n",
    "|---|---|\n",
    "| **Protein family** (related enzymes) | **List** [item1, item2, item3] |\n",
    "| **First protein** in family | **First item** list[0] |\n",
    "| **Family size** (number of proteins) | **List length** len(list) |\n",
    "| **Add new protein** to family | **Append item** list.append() |\n",
    "| **Sort proteins** by activity | **Sort list** list.sort() |\n",
    "| **Check if protein exists** | **Check membership** item in list |\n",
    "| **Remove inactive protein** | **Remove item** list.remove() |\n",
    "\n",
    "Just like protein families group related molecules with similar functions, lists group related data that you can analyze together!"
   ]
  },
  {
   "cell_type": "markdown",
   "metadata": {},
   "source": [
    "## 🧪 Lab Exercise 1: Create Your Protein Database\n",
    "\n",
    "**Your task:** Store the protein family data in organized lists.\n",
    "\n",
    "**Think like a biochemist:** You'd organize proteins by their properties to study structure-function relationships."
   ]
  },
  {
   "cell_type": "code",
   "metadata": {},
   "outputs": [],
   "source": "# Your code here - create lists for each protein property\n# protein_names = \n# activity_levels = \n# substrates = \n# tissue_locations = \n\n# Your code here - display the protein family"
  },
  {
   "cell_type": "markdown",
   "metadata": {},
   "source": [
    "## 🧪 Lab Exercise 2: Find the Most Active Protein\n",
    "\n",
    "**Biological goal:** Identify which enzyme has the highest catalytic activity.\n",
    "\n",
    "**Your task:** Use list methods to find the maximum activity and corresponding protein."
   ]
  },
  {
   "cell_type": "code",
   "metadata": {},
   "outputs": [],
   "source": "# Your code here - find the highest activity level\n# Hint: Use max() function\n\n\n# Your code here - find which protein has this activity\n# Hint: Use .index() method\n\n\n# Your code here - find the least active protein for comparison"
  },
  {
   "cell_type": "markdown",
   "metadata": {},
   "source": [
    "## 🧪 Lab Exercise 3: Analyze Tissue Distribution\n",
    "\n",
    "**Biological context:** Protein location often relates to function - digestive enzymes cluster in intestines, metabolic enzymes in liver.\n",
    "\n",
    "**Your task:** Count how many proteins are found in each tissue type."
   ]
  },
  {
   "cell_type": "code",
   "metadata": {},
   "outputs": [],
   "source": "# Your code here - count proteins by tissue location\n# Hint: Use .count() method to count occurrences\n\n\n# Your code here - find all unique tissue types\n\n\n# Your code here - create detailed tissue analysis"
  },
  {
   "cell_type": "markdown",
   "metadata": {},
   "source": [
    "## 🧪 Lab Exercise 4: Calculate Family Statistics\n",
    "\n",
    "**Your task:** Compute statistical measures to understand the protein family's characteristics.\n",
    "\n",
    "**Think like a bioinformatician:** Statistical analysis reveals patterns in protein families."
   ]
  },
  {
   "cell_type": "code",
   "metadata": {},
   "outputs": [],
   "source": "# Your code here - calculate basic statistics\n# Hint: Use sum(), len(), max(), min() functions\n\n\n# Your code here - find proteins above and below average"
  },
  {
   "cell_type": "markdown",
   "metadata": {},
   "source": [
    "## 🧪 Lab Exercise 5: Protein Family Expansion\n",
    "\n",
    "**Biological scenario:** Your lab discovers a new enzyme in this family!\n",
    "\n",
    "**New protein data:**\n",
    "- Name: \"Trehalase\"\n",
    "- Activity: 95 units/min\n",
    "- Substrate: \"Trehalose\"\n",
    "- Location: \"Muscle\"\n",
    "\n",
    "**Your task:** Add this protein to your database and update your analysis."
   ]
  },
  {
   "cell_type": "code",
   "metadata": {},
   "outputs": [],
   "source": "# Add the new protein to each list\nnew_protein_name = \"Trehalase\"\nnew_activity = 95\nnew_substrate = \"Trehalose\"\nnew_location = \"Muscle\"\n\n# Your code here - expand the protein family\n# Hint: Use .append() method to add to each list\n\n\n# Your code here - recalculate statistics with new protein"
  },
  {
   "cell_type": "markdown",
   "metadata": {},
   "source": [
    "## 🧪 Lab Exercise 6: Sort and Rank Proteins\n",
    "\n",
    "**Your task:** Create a sorted ranking of proteins by activity level.\n",
    "\n",
    "**Biological insight:** Ranking helps identify the most catalytically efficient enzymes for potential therapeutic use."
   ]
  },
  {
   "cell_type": "code",
   "metadata": {},
   "outputs": [],
   "source": "# Your code here - create a combined list for sorting\n# Hint: Create tuples or pairs of (protein_name, activity_level)\n\n\n# Your code here - sort by activity level (highest to lowest)\n# Hint: Use sorted() function with key parameter\n\n\n# Your code here - identify top performers and create performance tiers"
  },
  {
   "cell_type": "markdown",
   "metadata": {},
   "source": [
    "## 🤔 Biological Reflection\n",
    "\n",
    "**Answer these questions by modifying the text below:**\n",
    "\n",
    "1. **What patterns do you notice in the protein family's activity levels?**\n",
    "   *Your analysis here...*\n",
    "\n",
    "2. **Why might intestinal enzymes have different activities than liver enzymes?**\n",
    "   *Your biological reasoning here...*\n",
    "\n",
    "3. **How do Python lists help organize biological data compared to individual variables?**\n",
    "   *Your coding insight here...*\n",
    "\n",
    "4. **What would happen if you discovered an enzyme with 150 units/min activity?**\n",
    "   *Your prediction here...*"
   ]
  },
  {
   "cell_type": "markdown",
   "metadata": {},
   "source": [
    "## 🎯 Today's Key Insights\n",
    "\n",
    "### Biological Concepts:\n",
    "- Protein families and structure-function relationships\n",
    "- Enzyme activity and catalytic efficiency\n",
    "- Tissue-specific protein expression patterns\n",
    "- Comparative enzyme analysis\n",
    "\n",
    "### Programming Concepts:\n",
    "- **Lists** organize related data like protein families\n",
    "- **List indexing** accesses specific proteins by position\n",
    "- **List methods** (.append(), .count(), .index()) manipulate collections\n",
    "- **Loops** process entire protein families systematically\n",
    "- **Statistical functions** (max(), min(), sum()) analyze biological data\n",
    "- **Sorting** reveals patterns and rankings in datasets\n",
    "\n",
    "### The Connection:\n",
    "Just as biochemists group related proteins into families to study evolutionary relationships and functional patterns, programmers use lists to organize related data for systematic analysis!\n",
    "\n",
    "---\n",
    "\n",
    "## 📋 Before You Finish\n",
    "\n",
    "1. **Save this notebook** with your completed solutions\n",
    "2. **Ask Claude Code to review your work**: \"Claude, please review my Day3_Protein_Lists.ipynb notebook\"\n",
    "3. **Connect concepts**: How do variables (Day 1), strings (Day 2), and lists (Day 3) work together?\n",
    "4. **Preview tomorrow**: Day 4 explores enzyme functions as Python functions\n",
    "\n",
    "**Tomorrow's mystery:** \"How do enzymes accelerate specific reactions while ignoring others?\"\n",
    "\n",
    "*Outstanding work organizing life's molecular machinery! 🧬📊*"
   ]
  }
 ],
 "metadata": {
  "kernelspec": {
   "display_name": "Python 3",
   "language": "python",
   "name": "python3"
  },
  "language_info": {
   "codemirror_mode": {
    "name": "ipython",
    "version": 3
   },
   "file_extension": ".py",
   "name": "python",
   "nbconvert_exporter": "python",
   "pygments_lexer": "ipython3",
   "version": "3.8.5"
  }
 },
 "nbformat": 4,
 "nbformat_minor": 4
}