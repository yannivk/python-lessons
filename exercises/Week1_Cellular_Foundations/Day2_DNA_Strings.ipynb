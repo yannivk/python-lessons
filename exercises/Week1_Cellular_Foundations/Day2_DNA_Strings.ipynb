{
 "cells": [
  {
   "cell_type": "markdown",
   "metadata": {},
   "source": [
    "# Day 2: The Genetic Code Mystery 🧬\n",
    "*Strings as DNA Sequences: Reading Life's Instructions*\n",
    "\n",
    "---\n",
    "\n",
    "## Today's Biological Mystery\n",
    "\n",
    "**\"Why do some genetic mutations cause disease while others are harmless?\"**\n",
    "\n",
    "You've discovered a DNA sequence from a patient with a rare genetic disorder. Your mission: analyze this genetic code to understand how mutations affect protein function.\n",
    "\n",
    "Today you'll learn that **strings in Python are like DNA sequences** - ordered letters that carry crucial information when read correctly.\n",
    "\n",
    "---"
   ]
  },
  {
   "cell_type": "markdown",
   "metadata": {},
   "source": [
    "## 🔬 The Biological Context\n",
    "\n",
    "**Your patient data:**\n",
    "- **Patient DNA sequence:** `\"ATGAAATTTGGGCCCAAATAG\"`\n",
    "- **Normal reference:** `\"ATGAAATTCGGGCCCAAATAG\"`\n",
    "- **Gene name:** CFTR (related to cystic fibrosis)\n",
    "- **Symptom:** Patient has breathing difficulties\n",
    "\n",
    "**Your biological questions:**\n",
    "1. What's different between patient and normal DNA?\n",
    "2. How does this change affect the protein?\n",
    "3. Could this explain the symptoms?\n",
    "\n",
    "**Your coding challenge:** Use Python strings to analyze genetic sequences like a bioinformatician."
   ]
  },
  {
   "cell_type": "markdown",
   "metadata": {},
   "source": [
    "## 💡 The Biological Analogy\n",
    "\n",
    "Think of **Python strings like DNA sequences**:\n",
    "\n",
    "| DNA Biology | Python Programming |\n",
    "|---|---|\n",
    "| **DNA sequence** \"ATCG...\" | **String** \"Hello...\" |\n",
    "| **Reading frame** (start position) | **String indexing** [0], [1], [2] |\n",
    "| **Sequence length** (base pairs) | **String length** len() |\n",
    "| **Finding motifs** in DNA | **Finding substrings** in text |\n",
    "| **Reverse complement** strand | **String manipulation** methods |\n",
    "| **Mutations** change bases | **String replacement** changes characters |\n",
    "\n",
    "Just like DNA carries genetic instructions, strings carry textual information that programs can read and analyze!"
   ]
  },
  {
   "cell_type": "markdown",
   "metadata": {},
   "source": [
    "## 🧪 Lab Exercise 1: Store and Examine DNA Sequences\n",
    "\n",
    "**Your task:** Store the DNA sequences and explore their basic properties.\n",
    "\n",
    "**Think like a geneticist:** First, you'd sequence the DNA and compare it to reference databases."
   ]
  },
  {
   "cell_type": "code",
   "execution_count": 12,
   "metadata": {},
   "outputs": [
    {
     "name": "stdout",
     "output_type": "stream",
     "text": [
      "21\n",
      "21\n",
      "False\n",
      "8\n",
      "5\n",
      "3\n",
      "5\n",
      "8\n",
      "4\n",
      "4\n",
      "5\n",
      "True\n"
     ]
    }
   ],
   "source": [
    "# Your code here - store the DNA sequences from the biological context above\n",
    "patient = \"ATGAAATTTGGGCCCAAATAG\"\n",
    "reference = \"ATGAAATTCGGGCCCAAATAG\"\n",
    "\n",
    "# Your code here - examine basic properties\n",
    "print(len(patient))\n",
    "print(len(reference))\n",
    "print(patient == reference)\n",
    "print(patient.count('A'))\n",
    "print(patient.count('T'))\n",
    "print(patient.count('C'))\n",
    "print(patient.count('G'))\n",
    "print(reference.count('A'))\n",
    "print(reference.count('T'))\n",
    "print(reference.count('C'))\n",
    "print(reference.count('G'))\n",
    "\n",
    "# Your code here - check if sequences are same length\n",
    "print(len(patient) == len(reference))"
   ]
  },
  {
   "cell_type": "markdown",
   "metadata": {},
   "source": [
    "## 🧪 Lab Exercise 2: Find the Mutation\n",
    "\n",
    "**Biological goal:** Compare the sequences position by position to find the exact mutation.\n",
    "\n",
    "**Your task:** Write code to identify where the sequences differ.\n",
    "\n",
    "**Hint:** Use string indexing to check each position: `sequence[0]` gives first letter, `sequence[1]` gives second, etc."
   ]
  },
  {
   "cell_type": "code",
   "execution_count": 16,
   "metadata": {},
   "outputs": [
    {
     "name": "stdout",
     "output_type": "stream",
     "text": [
      "no change\n",
      "no change\n",
      "no change\n",
      "no change\n",
      "no change\n",
      "no change\n",
      "no change\n",
      "no change\n",
      "mutation\n",
      "Patient DNA is mutated at base 8\n",
      "no change\n",
      "no change\n",
      "no change\n",
      "no change\n",
      "no change\n",
      "no change\n",
      "no change\n",
      "no change\n",
      "no change\n",
      "no change\n",
      "no change\n",
      "no change\n"
     ]
    }
   ],
   "source": [
    "# Your code here - find differences between sequences\n",
    "for i in range(len(patient)):\n",
    "    if patient[i] == reference[i]:\n",
    "        print(\"no change\")\n",
    "    else:\n",
    "        print(\"mutation\")\n",
    "        print(f\"Patient DNA is mutated at base {i}\")"
   ]
  },
  {
   "cell_type": "markdown",
   "metadata": {},
   "source": [
    "## 🧪 Lab Exercise 3: Analyze Nucleotide Composition\n",
    "\n",
    "**Biological context:** DNA composition affects gene function:\n",
    "- **GC content** (% of G and C bases) influences gene stability\n",
    "- **AT content** affects gene expression\n",
    "- **Codon usage** patterns matter for protein translation\n",
    "\n",
    "**Your task:** Calculate nucleotide frequencies for both sequences."
   ]
  },
  {
   "cell_type": "code",
   "execution_count": 20,
   "metadata": {},
   "outputs": [
    {
     "name": "stdout",
     "output_type": "stream",
     "text": [
      "Number of A: 8\n",
      "Number of T: 5\n",
      "Number of G: 5\n",
      "Number of C: 3\n",
      "GC content is 38.095238095238095%\n",
      "Number of A: 8\n",
      "Number of T: 4\n",
      "Number of G: 5\n",
      "Number of C: 4\n",
      "GC content is 42.857142857142854%\n"
     ]
    }
   ],
   "source": [
    "# Your code here - create a function to analyze DNA composition\n",
    "\n",
    "def analyze_dna_composition(dna_sequence, sequence_name):\n",
    "    # Your function code here\n",
    "    A = dna_sequence.count('A')\n",
    "    T = dna_sequence.count('T')\n",
    "    G = dna_sequence.count('G')\n",
    "    C = dna_sequence.count('C')\n",
    "    print(f\"Number of A: {A}\")\n",
    "    print(f\"Number of T: {T}\")\n",
    "    print(f\"Number of G: {G}\")\n",
    "    print(f\"Number of C: {C}\")\n",
    "    GCcontent = ((G+C)/len(dna_sequence))*100\n",
    "    print(f\"GC content is {GCcontent}%\")\n",
    "\n",
    "# Your code here - analyze both sequences\n",
    "analyze_dna_composition(patient , \"Patient\")\n",
    "analyze_dna_composition(reference, \"Reference\")"
   ]
  },
  {
   "cell_type": "markdown",
   "metadata": {},
   "source": [
    "## 🧪 Lab Exercise 4: Translate to Protein\n",
    "\n",
    "**Biological context:** DNA codes for proteins through the genetic code:\n",
    "- Every 3 DNA bases (codon) codes for 1 amino acid\n",
    "- ATG = Start codon (Methionine)\n",
    "- TAG = Stop codon\n",
    "- Mutations can change amino acids and affect protein function\n",
    "\n",
    "**Your task:** Translate DNA to amino acids to see how the mutation affects the protein."
   ]
  },
  {
   "cell_type": "code",
   "execution_count": 23,
   "metadata": {},
   "outputs": [
    {
     "name": "stdout",
     "output_type": "stream",
     "text": [
      "\n",
      "Patient protein sequence:\n",
      "Met-Lys-Phe-Gly-Pro-Lys-STOP\n",
      "\n",
      "Reference protein sequence:\n",
      "Met-Lys-Phe-Gly-Pro-Lys-STOP\n",
      "\n",
      "Protein comparison:\n",
      "The proteins are identical\n"
     ]
    }
   ],
   "source": [
    "# Simplified genetic code dictionary (codon → amino acid)\n",
    "genetic_code = {\n",
    "    'ATG': 'Met', 'AAA': 'Lys', 'AAT': 'Asn', 'TTT': 'Phe', 'TTC': 'Phe',\n",
    "    'GGG': 'Gly', 'CCC': 'Pro', 'TAG': 'STOP', 'TAA': 'STOP', 'TGA': 'STOP'\n",
    "}\n",
    "\n",
    "# Your code here - create a function to translate DNA to protein\n",
    "\n",
    "def translate_dna(dna_sequence, sequence_name):\n",
    "    # Initialize an empty list to store amino acids\n",
    "    protein = []\n",
    "    \n",
    "    # Loop through the DNA sequence in steps of 3 (codons)\n",
    "    for i in range(0, len(dna_sequence), 3):\n",
    "        # Get the current codon (3 bases)\n",
    "        codon = dna_sequence[i:i+3]\n",
    "        \n",
    "        # Check if we have a complete codon\n",
    "        if len(codon) == 3:\n",
    "            # Look up the amino acid in our genetic code dictionary\n",
    "            amino_acid = genetic_code.get(codon, 'X')  # 'X' for unknown codons\n",
    "            protein.append(amino_acid)\n",
    "    \n",
    "    # Join the amino acids into a protein sequence\n",
    "    protein_sequence = '-'.join(protein)\n",
    "    \n",
    "    print(f\"\\n{sequence_name} protein sequence:\")\n",
    "    print(protein_sequence)\n",
    "    return protein_sequence\n",
    "    \n",
    "\n",
    "# Your code here - translate both sequences\n",
    "patient_protein = translate_dna(patient, \"Patient\")\n",
    "reference_protein = translate_dna(reference, \"Reference\")\n",
    "\n",
    "# Your code here - compare the resulting proteins\n",
    "print(\"\\nProtein comparison:\")\n",
    "if patient_protein == reference_protein:\n",
    "    print(\"The proteins are identical\")\n",
    "else:\n",
    "    print(\"The proteins are different\")\n",
    "    # Find where they differ\n",
    "    for i, (p, r) in enumerate(zip(patient_protein.split('-'), reference_protein.split('-'))):\n",
    "        if p != r:\n",
    "            print(f\"Position {i+1}: Patient has {p}, Reference has {r}\")"
   ]
  },
  {
   "cell_type": "markdown",
   "metadata": {},
   "source": [
    "## 🧪 Lab Exercise 5: Clinical Interpretation\n",
    "\n",
    "**Your task:** Combine your findings to interpret the clinical significance.\n",
    "\n",
    "**Think like a genetic counselor:** How do you explain these results to the patient?"
   ]
  },
  {
   "cell_type": "code",
   "execution_count": 5,
   "metadata": {},
   "outputs": [],
   "source": [
    "# generate a clinical report\n",
    "\"The patient will likely not suffer any significant changes, as the amino acid sequence is conserved\""
   ]
  },
  {
   "cell_type": "markdown",
   "metadata": {},
   "source": [
    "## 🤔 Biological Reflection\n",
    "\n",
    "**Answer these questions by modifying the text below:**\n",
    "\n",
    "1. **How did the single DNA base change affect the protein?**\n",
    "   *Your analysis here...*\n",
    "\n",
    "2. **Why might this protein change cause breathing difficulties?**\n",
    "   *Your biological reasoning here...*\n",
    "\n",
    "3. **How are DNA strings similar to Python strings in terms of processing?**\n",
    "   *Your coding insight here...*\n",
    "\n",
    "4. **What would happen if the mutation occurred in a different position?**\n",
    "   *Your prediction here...*"
   ]
  },
  {
   "cell_type": "markdown",
   "metadata": {},
   "source": [
    "## 🎯 Today's Key Insights\n",
    "\n",
    "### Biological Concepts:\n",
    "- DNA mutations and their protein consequences\n",
    "- The genetic code and translation\n",
    "- Clinical interpretation of genetic variants\n",
    "- Silent vs. pathogenic mutations\n",
    "\n",
    "### Programming Concepts:\n",
    "- **Strings** store sequential data like DNA sequences\n",
    "- **String indexing** accesses specific positions like DNA bases\n",
    "- **String methods** (.count(), .upper(), slicing) analyze text data\n",
    "- **Loops** process sequences systematically\n",
    "- **Dictionaries** map codes (like genetic code translations)\n",
    "\n",
    "### The Connection:\n",
    "Just as biologists read DNA sequences to understand genetic information, programmers use strings to store and analyze textual data. Both require systematic, position-by-position analysis!\n",
    "\n",
    "---\n",
    "\n",
    "## 📋 Before You Finish\n",
    "\n",
    "1. **Save this notebook** with your completed solutions\n",
    "2. **Ask Claude Code to review your work**: \"Claude, please review my Day2_DNA_Strings.ipynb notebook\"\n",
    "3. **Connect to yesterday**: How do variables from Day 1 work with strings from Day 2?\n",
    "4. **Preview tomorrow**: Day 3 explores protein families as lists\n",
    "\n",
    "**Tomorrow's mystery:** \"Why do related proteins have similar but not identical functions?\"\n",
    "\n",
    "*Excellent work decoding life's instructions! 🧬🔍*"
   ]
  }
 ],
 "metadata": {
  "kernelspec": {
   "display_name": "scRNA-seq",
   "language": "python",
   "name": "python3"
  },
  "language_info": {
   "codemirror_mode": {
    "name": "ipython",
    "version": 3
   },
   "file_extension": ".py",
   "mimetype": "text/x-python",
   "name": "python",
   "nbconvert_exporter": "python",
   "pygments_lexer": "ipython3",
   "version": "3.12.9"
  }
 },
 "nbformat": 4,
 "nbformat_minor": 4
}
