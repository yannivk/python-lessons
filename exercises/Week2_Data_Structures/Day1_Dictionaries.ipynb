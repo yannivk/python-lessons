{
 "cells": [
  {
   "cell_type": "markdown",
   "metadata": {},
   "source": [
    "# Week 2, Day 1: Dictionaries and Key-Value Data\n",
    "\n",
    "## Programming Concept: Dictionaries\n",
    "\n",
    "Today we'll learn about **dictionaries** - one of Python's most powerful data structures. While lists store data in order using numeric indices (0, 1, 2...), dictionaries store data using **keys** that can be strings, numbers, or other types.\n",
    "\n",
    "### Key Programming Concepts:\n",
    "- **Key-value pairs**: Each piece of data has a unique identifier (key) and a value\n",
    "- **Hash tables**: Dictionaries use hashing for fast lookups (O(1) average time)\n",
    "- **Mutable mapping**: You can add, modify, and remove key-value pairs\n",
    "- **No ordering guarantee**: Dictionary items don't have a fixed order (though Python 3.7+ preserves insertion order)\n",
    "\n",
    "### Why Dictionaries Matter:\n",
    "- **Database-like structure**: Store related information together\n",
    "- **Fast lookups**: Finding data by key is much faster than searching through lists\n",
    "- **Real-world modeling**: Many data relationships are naturally key-value pairs\n",
    "- **JSON compatibility**: Dictionaries translate directly to JSON format for web APIs"
   ]
  },
  {
   "cell_type": "markdown",
   "metadata": {},
   "source": [
    "## Exercise 1: Basic Dictionary Operations\n",
    "\n",
    "Let's start with creating and manipulating dictionaries. We'll work with a dataset of research participants and their test scores."
   ]
  },
  {
   "cell_type": "code",
   "execution_count": null,
   "metadata": {},
   "outputs": [],
   "source": [
    "# Create a dictionary of participant IDs and their scores\n",
    "participant_scores = {\n",
    "    \"P001\": 85,\n",
    "    \"P002\": 92,\n",
    "    \"P003\": 78,\n",
    "    \"P004\": 96,\n",
    "    \"P005\": 88\n",
    "}\n",
    "\n",
    "print(\"Participant scores:\")\n",
    "print(participant_scores)\n",
    "print(f\"Number of participants: {len(participant_scores)}\")"
   ]
  },
  {
   "cell_type": "code",
   "execution_count": null,
   "metadata": {},
   "outputs": [],
   "source": [
    "# Task 1a: Access individual scores\n",
    "# Get P003's score and store it in a variable called p003_score\n",
    "# Print both the participant ID and their score\n",
    "\n"
   ]
  },
  {
   "cell_type": "code",
   "execution_count": null,
   "metadata": {},
   "outputs": [],
   "source": [
    "# Task 1b: Add new participants\n",
    "# Add two new participants: P006 with score 89, P007 with score 94\n",
    "# Print the updated dictionary\n",
    "\n"
   ]
  },
  {
   "cell_type": "code",
   "execution_count": null,
   "metadata": {},
   "outputs": [],
   "source": [
    "# Task 1c: Update an existing score\n",
    "# P002 retook the test and got a score of 98\n",
    "# Update their score and print the change\n",
    "\n"
   ]
  },
  {
   "cell_type": "markdown",
   "metadata": {},
   "source": [
    "## Exercise 2: Dictionary Methods and Iteration\n",
    "\n",
    "Dictionaries have powerful built-in methods for working with keys, values, and key-value pairs."
   ]
  },
  {
   "cell_type": "code",
   "execution_count": null,
   "metadata": {},
   "outputs": [],
   "source": [
    "# Task 2a: Explore dictionary methods\n",
    "# Print all participant IDs (keys)\n",
    "# Print all scores (values)\n",
    "# Print all key-value pairs\n",
    "\n"
   ]
  },
  {
   "cell_type": "code",
   "execution_count": null,
   "metadata": {},
   "outputs": [],
   "source": [
    "# Task 2b: Calculate statistics\n",
    "# Find the highest score and which participant got it\n",
    "# Find the lowest score and which participant got it\n",
    "# Calculate the average score\n",
    "\n"
   ]
  },
  {
   "cell_type": "code",
   "execution_count": null,
   "metadata": {},
   "outputs": [],
   "source": [
    "# Task 2c: Safe access with .get()\n",
    "# Try to get the score for participant \"P999\" (who doesn't exist)\n",
    "# Use the .get() method with a default value of 0\n",
    "# Compare this to what happens if you try participant_scores[\"P999\"]\n",
    "\n"
   ]
  },
  {
   "cell_type": "markdown",
   "metadata": {},
   "source": [
    "## Exercise 3: Nested Dictionaries\n",
    "\n",
    "Real-world data often requires storing multiple pieces of information about each entity. We'll use nested dictionaries to store more complex participant data."
   ]
  },
  {
   "cell_type": "code",
   "execution_count": null,
   "metadata": {},
   "outputs": [],
   "source": [
    "# Create a more complex dataset with nested dictionaries\n",
    "participants = {\n",
    "    \"P001\": {\n",
    "        \"age\": 25,\n",
    "        \"score\": 85,\n",
    "        \"group\": \"A\",\n",
    "        \"completion_time\": 45\n",
    "    },\n",
    "    \"P002\": {\n",
    "        \"age\": 32,\n",
    "        \"score\": 98,\n",
    "        \"group\": \"B\",\n",
    "        \"completion_time\": 38\n",
    "    },\n",
    "    \"P003\": {\n",
    "        \"age\": 28,\n",
    "        \"score\": 78,\n",
    "        \"group\": \"A\",\n",
    "        \"completion_time\": 52\n",
    "    }\n",
    "}\n",
    "\n",
    "print(\"Complex participant data:\")\n",
    "for participant_id, data in participants.items():\n",
    "    print(f\"{participant_id}: {data}\")"
   ]
  },
  {
   "cell_type": "code",
   "execution_count": null,
   "metadata": {},
   "outputs": [],
   "source": [
    "# Task 3a: Access nested data\n",
    "# Get P002's age and completion time\n",
    "# Print them in a formatted string\n",
    "\n"
   ]
  },
  {
   "cell_type": "code",
   "execution_count": null,
   "metadata": {},
   "outputs": [],
   "source": [
    "# Task 3b: Add a new participant with complete data\n",
    "# Add P004: age 29, score 91, group \"B\", completion_time 41\n",
    "# Print the updated participants dictionary\n",
    "\n"
   ]
  },
  {
   "cell_type": "code",
   "execution_count": null,
   "metadata": {},
   "outputs": [],
   "source": [
    "# Task 3c: Group analysis\n",
    "# Calculate the average score for group A and group B separately\n",
    "# Hint: Loop through participants and check their group\n",
    "\n"
   ]
  },
  {
   "cell_type": "markdown",
   "metadata": {},
   "source": [
    "## Exercise 4: Dictionary Comprehensions\n",
    "\n",
    "Dictionary comprehensions are a powerful way to create dictionaries from other data structures, similar to list comprehensions."
   ]
  },
  {
   "cell_type": "code",
   "execution_count": null,
   "metadata": {},
   "outputs": [],
   "source": [
    "# Task 4a: Create a dictionary from lists\n",
    "# You have two lists: participant IDs and their corresponding reaction times\n",
    "participant_ids = [\"P001\", \"P002\", \"P003\", \"P004\", \"P005\"]\n",
    "reaction_times = [245, 198, 267, 223, 251]\n",
    "\n",
    "# Create a dictionary using zip() and dict()\n",
    "# Then create the same dictionary using a dictionary comprehension\n",
    "\n"
   ]
  },
  {
   "cell_type": "code",
   "execution_count": null,
   "metadata": {},
   "outputs": [],
   "source": [
    "# Task 4b: Filter and transform data\n",
    "# Create a new dictionary containing only participants with scores >= 85\n",
    "# The values should be the scores converted to letter grades:\n",
    "# 90-100: \"A\", 80-89: \"B\", 70-79: \"C\", below 70: \"F\"\n",
    "\n"
   ]
  },
  {
   "cell_type": "code",
   "execution_count": null,
   "metadata": {},
   "outputs": [],
   "source": [
    "# Task 4c: Count occurrences\n",
    "# Given a list of test results, count how many times each score appears\n",
    "test_results = [85, 92, 78, 85, 96, 88, 92, 85, 91, 78, 96, 88]\n",
    "\n",
    "# Create a dictionary where keys are scores and values are counts\n",
    "# Try to do this both with a regular loop and with a dictionary comprehension\n",
    "\n"
   ]
  },
  {
   "cell_type": "markdown",
   "metadata": {},
   "source": [
    "## Exercise 5: Practical Application\n",
    "\n",
    "Let's combine everything we've learned to solve a real-world data analysis problem."
   ]
  },
  {
   "cell_type": "code",
   "execution_count": null,
   "metadata": {},
   "outputs": [],
   "source": [
    "# Dataset: Survey responses from multiple participants across different questions\n",
    "survey_data = {\n",
    "    \"participant_001\": {\"Q1\": 4, \"Q2\": 3, \"Q3\": 5, \"Q4\": 4, \"Q5\": 3},\n",
    "    \"participant_002\": {\"Q1\": 5, \"Q2\": 5, \"Q3\": 4, \"Q4\": 5, \"Q5\": 4},\n",
    "    \"participant_003\": {\"Q1\": 3, \"Q2\": 4, \"Q3\": 3, \"Q4\": 4, \"Q5\": 5},\n",
    "    \"participant_004\": {\"Q1\": 2, \"Q2\": 3, \"Q3\": 4, \"Q4\": 3, \"Q5\": 4},\n",
    "    \"participant_005\": {\"Q1\": 5, \"Q2\": 4, \"Q3\": 5, \"Q4\": 5, \"Q5\": 3}\n",
    "}\n",
    "\n",
    "# Task 5a: Calculate average response for each question\n",
    "# Create a dictionary where keys are question IDs (Q1, Q2, etc.)\n",
    "# and values are the average responses for that question\n",
    "\n"
   ]
  },
  {
   "cell_type": "code",
   "execution_count": null,
   "metadata": {},
   "outputs": [],
   "source": [
    "# Task 5b: Find participants with highest and lowest overall satisfaction\n",
    "# Calculate the total score for each participant (sum of all their responses)\n",
    "# Find who had the highest and lowest total scores\n",
    "\n"
   ]
  },
  {
   "cell_type": "code",
   "execution_count": null,
   "metadata": {},
   "outputs": [],
   "source": [
    "# Task 5c: Create a summary report\n",
    "# Write a function that takes the survey_data and returns a summary dictionary containing:\n",
    "# - Total number of participants\n",
    "# - Average response across all questions and participants\n",
    "# - Most positive question (highest average)\n",
    "# - Most critical question (lowest average)\n",
    "\n",
    "def analyze_survey(data):\n",
    "    # Your code here\n",
    "    pass\n",
    "\n",
    "# Call your function and print the results\n"
   ]
  },
  {
   "cell_type": "markdown",
   "metadata": {},
   "source": [
    "## Challenge: Advanced Dictionary Operations\n",
    "\n",
    "For those who want to push further:"
   ]
  },
  {
   "cell_type": "code",
   "execution_count": null,
   "metadata": {},
   "outputs": [],
   "source": [
    "# Challenge 1: Merge dictionaries with conflict resolution\n",
    "# You have two datasets that need to be combined\n",
    "dataset1 = {\"P001\": 85, \"P002\": 92, \"P003\": 78}\n",
    "dataset2 = {\"P002\": 94, \"P003\": 81, \"P004\": 89}\n",
    "\n",
    "# Create a function that merges them, taking the higher score when there's a conflict\n",
    "\n"
   ]
  },
  {
   "cell_type": "code",
   "execution_count": null,
   "metadata": {},
   "outputs": [],
   "source": [
    "# Challenge 2: Invert a dictionary\n",
    "# Given a dictionary mapping participant IDs to scores,\n",
    "# create a new dictionary mapping scores to lists of participant IDs\n",
    "# (since multiple participants might have the same score)\n",
    "\n",
    "scores = {\"P001\": 85, \"P002\": 92, \"P003\": 85, \"P004\": 78, \"P005\": 92}\n",
    "\n"
   ]
  }
 ],
 "metadata": {
  "kernelspec": {
   "display_name": "Python 3",
   "language": "python",
   "name": "python3"
  },
  "language_info": {
   "codemirror_mode": {
    "name": "ipython",
    "version": 3
   },
   "file_extension": ".py",
   "mimetype": "text/x-python",
   "name": "python",
   "nbconvert_exporter": "python",
   "pygments_lexer": "ipython3",
   "version": "3.8.5"
  }
 },
 "nbformat": 4,
 "nbformat_minor": 4
}
