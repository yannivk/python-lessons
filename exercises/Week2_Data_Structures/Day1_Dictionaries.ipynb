{
 "cells": [
  {
   "cell_type": "markdown",
   "metadata": {},
   "source": [
    "# Week 2, Day 1: Dictionaries and Key-Value Data\n",
    "\n",
    "## Programming Concept: Dictionaries\n",
    "\n",
    "Today we'll learn about **dictionaries** - one of Python's most powerful data structures. While lists store data in order using numeric indices (0, 1, 2...), dictionaries store data using **keys** that can be strings, numbers, or other types.\n",
    "\n",
    "### Key Programming Concepts:\n",
    "- **Key-value pairs**: Each piece of data has a unique identifier (key) and a value\n",
    "- **Hash tables**: Dictionaries use hashing for fast lookups (O(1) average time)\n",
    "- **Mutable mapping**: You can add, modify, and remove key-value pairs\n",
    "- **No ordering guarantee**: Dictionary items don't have a fixed order (though Python 3.7+ preserves insertion order)\n",
    "\n",
    "### Why Dictionaries Matter:\n",
    "- **Database-like structure**: Store related information together\n",
    "- **Fast lookups**: Finding data by key is much faster than searching through lists\n",
    "- **Real-world modeling**: Many data relationships are naturally key-value pairs\n",
    "- **JSON compatibility**: Dictionaries translate directly to JSON format for web APIs"
   ]
  },
  {
   "cell_type": "markdown",
   "metadata": {},
   "source": [
    "## Exercise 1: Basic Dictionary Operations\n",
    "\n",
    "Let's start with creating and manipulating dictionaries. We'll work with a dataset of research participants and their test scores."
   ]
  },
  {
   "cell_type": "code",
   "execution_count": 2,
   "metadata": {},
   "outputs": [
    {
     "name": "stdout",
     "output_type": "stream",
     "text": [
      "Participant scores:\n",
      "{'P001': 85, 'P002': 92, 'P003': 78, 'P004': 96, 'P005': 88}\n",
      "Number of participants: 5\n"
     ]
    }
   ],
   "source": [
    "# Create a dictionary of participant IDs and their scores\n",
    "participant_scores = {\n",
    "    \"P001\": 85,\n",
    "    \"P002\": 92,\n",
    "    \"P003\": 78,\n",
    "    \"P004\": 96,\n",
    "    \"P005\": 88\n",
    "}\n",
    "\n",
    "print(\"Participant scores:\")\n",
    "print(participant_scores)\n",
    "print(f\"Number of participants: {len(participant_scores)}\")"
   ]
  },
  {
   "cell_type": "code",
   "execution_count": 6,
   "metadata": {},
   "outputs": [
    {
     "name": "stdout",
     "output_type": "stream",
     "text": [
      "P003's score: 78\n"
     ]
    }
   ],
   "source": [
    "# Task 1a: Access individual scores\n",
    "# Get P003's score and store it in a variable called p003_score\n",
    "p003_score = participant_scores.get(\"P003\")\n",
    "# Print both the participant ID and their score\n",
    "print(f\"P003's score: {p003_score}\")\n"
   ]
  },
  {
   "cell_type": "code",
   "execution_count": 7,
   "metadata": {},
   "outputs": [
    {
     "name": "stdout",
     "output_type": "stream",
     "text": [
      "{'P001': 85, 'P002': 92, 'P003': 78, 'P004': 96, 'P005': 88, 'P006': 89, 'P007': 94}\n"
     ]
    }
   ],
   "source": [
    "# Task 1b: Add new participants\n",
    "# Add two new participants: P006 with score 89, P007 with score 94\n",
    "participant_scores[\"P006\"] = 89\n",
    "participant_scores[\"P007\"] = 94\n",
    "# Print the updated dictionary\n",
    "print(participant_scores)\n"
   ]
  },
  {
   "cell_type": "code",
   "execution_count": 8,
   "metadata": {},
   "outputs": [
    {
     "name": "stdout",
     "output_type": "stream",
     "text": [
      "{'P001': 85, 'P002': 98, 'P003': 78, 'P004': 96, 'P005': 88, 'P006': 89, 'P007': 94}\n"
     ]
    }
   ],
   "source": [
    "# Task 1c: Update an existing score\n",
    "# P002 retook the test and got a score of 98\n",
    "participant_scores[\"P002\"] = 98\n",
    "# Update their score and print the change\n",
    "print(participant_scores)\n",
    "\n"
   ]
  },
  {
   "cell_type": "markdown",
   "metadata": {},
   "source": [
    "## Exercise 2: Dictionary Methods and Iteration\n",
    "\n",
    "Dictionaries have powerful built-in methods for working with keys, values, and key-value pairs."
   ]
  },
  {
   "cell_type": "code",
   "execution_count": 12,
   "metadata": {},
   "outputs": [
    {
     "name": "stdout",
     "output_type": "stream",
     "text": [
      "dict_keys(['P001', 'P002', 'P003', 'P004', 'P005', 'P006', 'P007'])\n",
      "dict_values([85, 98, 78, 96, 88, 89, 94])\n",
      "{'P001': 85, 'P002': 98, 'P003': 78, 'P004': 96, 'P005': 88, 'P006': 89, 'P007': 94}\n"
     ]
    }
   ],
   "source": [
    "# Task 2a: Explore dictionary methods\n",
    "# Print all participant IDs (keys)\n",
    "print(participant_scores.keys())\n",
    "# Print all scores (values)\n",
    "print(participant_scores.values())\n",
    "# Print all key-value pairs\n",
    "print(participant_scores)\n",
    "\n"
   ]
  },
  {
   "cell_type": "code",
   "execution_count": 19,
   "metadata": {},
   "outputs": [
    {
     "name": "stdout",
     "output_type": "stream",
     "text": [
      "Highest score: 98 by participant P007\n",
      "Lowest score: 78 by participant P001\n",
      "Average score: 89.71428571428571\n"
     ]
    }
   ],
   "source": [
    "# Task 2b: Calculate statistics\n",
    "# Find the highest score and which participant got it\n",
    "highest_score = max(participant_scores.values())\n",
    "best_participant = max(participant_scores)\n",
    "print(f\"Highest score: {highest_score} by participant {best_participant}\")\n",
    "\n",
    "# Find the lowest score and which participant got it\n",
    "lowest_score = min(participant_scores.values())\n",
    "worst_participant = min(participant_scores)\n",
    "print(f\"Lowest score: {lowest_score} by participant {worst_participant}\")\n",
    "\n",
    "# Calculate the average score\n",
    "average_score = sum(participant_scores.values()) / len(participant_scores)\n",
    "print(f\"Average score: {average_score}\")\n",
    "\n"
   ]
  },
  {
   "cell_type": "code",
   "execution_count": null,
   "metadata": {},
   "outputs": [],
   "source": [
    "# Task 2c: Safe access with .get()\n",
    "# Try to get the score for participant \"P999\" (who doesn't exist)\n",
    "# Use the .get() method with a default value of 0\n",
    "# Compare this to what happens if you try participant_scores[\"P999\"]\n",
    "\n"
   ]
  },
  {
   "cell_type": "markdown",
   "metadata": {},
   "source": [
    "## Exercise 3: Nested Dictionaries\n",
    "\n",
    "Real-world data often requires storing multiple pieces of information about each entity. We'll use nested dictionaries to store more complex participant data."
   ]
  },
  {
   "cell_type": "code",
   "execution_count": 20,
   "metadata": {},
   "outputs": [
    {
     "name": "stdout",
     "output_type": "stream",
     "text": [
      "Complex participant data:\n",
      "P001: {'age': 25, 'score': 85, 'group': 'A', 'completion_time': 45}\n",
      "P002: {'age': 32, 'score': 98, 'group': 'B', 'completion_time': 38}\n",
      "P003: {'age': 28, 'score': 78, 'group': 'A', 'completion_time': 52}\n"
     ]
    }
   ],
   "source": [
    "# Create a more complex dataset with nested dictionaries\n",
    "participants = {\n",
    "    \"P001\": {\n",
    "        \"age\": 25,\n",
    "        \"score\": 85,\n",
    "        \"group\": \"A\",\n",
    "        \"completion_time\": 45\n",
    "    },\n",
    "    \"P002\": {\n",
    "        \"age\": 32,\n",
    "        \"score\": 98,\n",
    "        \"group\": \"B\",\n",
    "        \"completion_time\": 38\n",
    "    },\n",
    "    \"P003\": {\n",
    "        \"age\": 28,\n",
    "        \"score\": 78,\n",
    "        \"group\": \"A\",\n",
    "        \"completion_time\": 52\n",
    "    }\n",
    "}\n",
    "\n",
    "print(\"Complex participant data:\")\n",
    "for participant_id, data in participants.items():\n",
    "    print(f\"{participant_id}: {data}\")"
   ]
  },
  {
   "cell_type": "code",
   "execution_count": 25,
   "metadata": {},
   "outputs": [
    {
     "name": "stdout",
     "output_type": "stream",
     "text": [
      "P002 is 32 years old and has a completion time of 32\n"
     ]
    }
   ],
   "source": [
    "# Task 3a: Access nested data\n",
    "# Get P002's age and completion time\n",
    "P002_age = participants[\"P002\"][\"age\"]\n",
    "P002_completion_time = participants[\"P002\"][\"age\"]\n",
    "# Print them in a formatted string\n",
    "print(f\"P002 is {P002_age} years old and has a completion time of {P002_completion_time}\")\n"
   ]
  },
  {
   "cell_type": "code",
   "execution_count": 27,
   "metadata": {},
   "outputs": [
    {
     "name": "stdout",
     "output_type": "stream",
     "text": [
      "{'P001': {'age': 25, 'score': 85, 'group': 'A', 'completion_time': 45}, 'P002': {'age': 32, 'score': 98, 'group': 'B', 'completion_time': 38}, 'P003': {'age': 28, 'score': 78, 'group': 'A', 'completion_time': 52}, 'P004': {'age': 29, 'score': 91, 'group': 'B', 'completion_time': 41}}\n"
     ]
    }
   ],
   "source": [
    "# Task 3b: Add a new participant with complete data\n",
    "# Add P004: age 29, score 91, group \"B\", completion_time 41\n",
    "participants[\"P004\"] = {\"age\": 29,\n",
    "                        \"score\": 91,\n",
    "                        \"group\": \"B\",\n",
    "                        \"completion_time\": 41}\n",
    "\n",
    "# Print the updated participants dictionary\n",
    "print(participants)"
   ]
  },
  {
   "cell_type": "code",
   "execution_count": 28,
   "metadata": {},
   "outputs": [
    {
     "name": "stdout",
     "output_type": "stream",
     "text": [
      "Group A average score: 81.5\n",
      "Group B average score: 94.5\n"
     ]
    }
   ],
   "source": [
    "# Task 3c: Group analysis\n",
    "# Calculate the average score for group A and group B separately\n",
    "# Hint: Loop through participants and check their group\n",
    "group_A = []\n",
    "group_B = []\n",
    "\n",
    "for participant, data in participants.items():\n",
    "    if data[\"group\"] == \"A\":\n",
    "        group_A.append(data[\"score\"])\n",
    "    elif data[\"group\"] == \"B\":\n",
    "        group_B.append(data[\"score\"])\n",
    "\n",
    "group_A_avg = sum(group_A) / len(group_A)\n",
    "group_B_avg = sum(group_B) / len(group_B)\n",
    "\n",
    "print(f\"Group A average score: {group_A_avg}\")\n",
    "print(f\"Group B average score: {group_B_avg}\")"
   ]
  },
  {
   "cell_type": "markdown",
   "metadata": {},
   "source": [
    "## Exercise 4: Dictionary Comprehensions\n",
    "\n",
    "Dictionary comprehensions are a powerful way to create dictionaries from other data structures, similar to list comprehensions."
   ]
  },
  {
   "cell_type": "code",
   "execution_count": 35,
   "metadata": {},
   "outputs": [
    {
     "name": "stdout",
     "output_type": "stream",
     "text": [
      "{'P001': 245, 'P002': 198, 'P003': 267, 'P004': 223, 'P005': 251}\n",
      "{'P001': 245, 'P002': 198, 'P003': 267, 'P004': 223, 'P005': 251}\n"
     ]
    }
   ],
   "source": [
    "# Task 4a: Create a dictionary from lists\n",
    "# You have two lists: participant IDs and their corresponding reaction times\n",
    "participant_ids = [\"P001\", \"P002\", \"P003\", \"P004\", \"P005\"]\n",
    "reaction_times = [245, 198, 267, 223, 251]\n",
    "\n",
    "# Create a dictionary using zip() and dict()\n",
    "dictionary = dict(zip(participant_ids, reaction_times))\n",
    "print(dictionary)\n",
    "# Then create the same dictionary using a dictionary comprehension\n",
    "my_dic = {k:v for (k,v) in zip(participant_ids, reaction_times)}\n",
    "print(my_dic)\n",
    "\n"
   ]
  },
  {
   "cell_type": "code",
   "execution_count": 7,
   "metadata": {},
   "outputs": [
    {
     "name": "stdout",
     "output_type": "stream",
     "text": [
      "{'P001': 85, 'P002': 92, 'P004': 96, 'P005': 88}\n",
      "{'P001': 'B', 'P002': 'A', 'P003': 'C', 'P004': 'A', 'P005': 'B'}\n"
     ]
    }
   ],
   "source": [
    "# Task 4b: Filter and transform data\n",
    "# Create a new dictionary containing only participants with scores >= 85\n",
    "# The values should be the scores converted to letter grades:\n",
    "# 90-100: \"A\", 80-89: \"B\", 70-79: \"C\", below 70: \"F\"\n",
    "filtered_scores = {k:v for k, v in participant_scores.items() if v >= 85}\n",
    "print(filtered_scores)\n",
    "\n",
    "grade_dict = {}\n",
    "\n",
    "for participant, score in participant_scores.items():\n",
    "    if score >= 90:\n",
    "        grade_dict[participant] = \"A\"\n",
    "    elif score >= 80:\n",
    "        grade_dict[participant] = \"B\"\n",
    "    elif score >= 70:\n",
    "        grade_dict[participant] = \"C\"\n",
    "    else:\n",
    "        grade_dict[participant] = \"F\"\n",
    "\n",
    "print(grade_dict)"
   ]
  },
  {
   "cell_type": "code",
   "execution_count": 14,
   "metadata": {},
   "outputs": [
    {
     "name": "stdout",
     "output_type": "stream",
     "text": [
      "{85: 3, 92: 2, 78: 2, 96: 2, 88: 2, 91: 1}\n"
     ]
    }
   ],
   "source": [
    "# Task 4c: Count occurrences\n",
    "# Given a list of test results, count how many times each score appears\n",
    "test_results = [85, 92, 78, 85, 96, 88, 92, 85, 91, 78, 96, 88]\n",
    "\n",
    "\n",
    "\n",
    "# Create a dictionary where keys are scores and values are counts\n",
    "# Try to do this both with a regular loop and with a dictionary comprehension\n",
    "score_counts = {}\n",
    "for score in test_results:\n",
    "    if score in score_counts:\n",
    "        score_counts[score] += 1\n",
    "    else:\n",
    "        score_counts[score] = 1\n",
    "\n",
    "score_counts = {score: test_results.count(score) for score in test_results}\n",
    "print(score_counts)\n",
    "\n"
   ]
  },
  {
   "cell_type": "markdown",
   "metadata": {},
   "source": [
    "## Exercise 5: Practical Application\n",
    "\n",
    "Let's combine everything we've learned to solve a real-world data analysis problem."
   ]
  },
  {
   "cell_type": "markdown",
   "metadata": {},
   "source": [
    "## Exercise 5: Practical Application\n",
    "\n",
    "Let's combine everything we've learned to solve a real-world data analysis problem."
   ]
  },
  {
   "cell_type": "code",
   "execution_count": null,
   "metadata": {},
   "outputs": [],
   "source": [
    "# Dataset: Survey responses from multiple participants across different questions\n",
    "survey_data = {\n",
    "    \"participant_001\": {\"Q1\": 4, \"Q2\": 3, \"Q3\": 5, \"Q4\": 4, \"Q5\": 3},\n",
    "    \"participant_002\": {\"Q1\": 5, \"Q2\": 5, \"Q3\": 4, \"Q4\": 5, \"Q5\": 4},\n",
    "    \"participant_003\": {\"Q1\": 3, \"Q2\": 4, \"Q3\": 3, \"Q4\": 4, \"Q5\": 5},\n",
    "    \"participant_004\": {\"Q1\": 2, \"Q2\": 3, \"Q3\": 4, \"Q4\": 3, \"Q5\": 4},\n",
    "    \"participant_005\": {\"Q1\": 5, \"Q2\": 4, \"Q3\": 5, \"Q4\": 5, \"Q5\": 3}\n",
    "}\n",
    "\n",
    "# Task 5a: Calculate average response for each question\n",
    "# Create a dictionary where keys are question IDs (Q1, Q2, etc.)\n",
    "# and values are the average responses for that question\n",
    "\n",
    "# Create a dictionary to store question averages\n",
    "question_averages = {}\n",
    "\n",
    "# Get all question IDs (Q1, Q2, etc.) from the first participant\n",
    "questions = list(survey_data[\"participant_001\"].keys())\n"
   ]
  },
  {
   "cell_type": "markdown",
   "metadata": {},
   "source": [
    "## Exercise 5: Practical Application\n",
    "\n",
    "Let's combine everything we've learned to solve a real-world data analysis problem."
   ]
  },
  {
   "cell_type": "code",
   "execution_count": null,
   "metadata": {},
   "outputs": [],
   "source": [
    "# Task 5b: Find participants with highest and lowest overall satisfaction\n",
    "# Calculate the total score for each participant (sum of all their responses)\n",
    "# Find who had the highest and lowest total scores\n",
    "\n"
   ]
  },
  {
   "cell_type": "code",
   "execution_count": null,
   "metadata": {},
   "outputs": [],
   "source": [
    "# Task 5c: Create a summary report\n",
    "# Write a function that takes the survey_data and returns a summary dictionary containing:\n",
    "# - Total number of participants\n",
    "# - Average response across all questions and participants\n",
    "# - Most positive question (highest average)\n",
    "# - Most critical question (lowest average)\n",
    "\n",
    "def analyze_survey(data):\n",
    "    # Your code here\n",
    "    pass\n",
    "\n",
    "# Call your function and print the results\n"
   ]
  },
  {
   "cell_type": "markdown",
   "metadata": {},
   "source": [
    "## Challenge: Advanced Dictionary Operations\n",
    "\n",
    "For those who want to push further:"
   ]
  },
  {
   "cell_type": "code",
   "execution_count": null,
   "metadata": {},
   "outputs": [],
   "source": [
    "# Challenge 1: Merge dictionaries with conflict resolution\n",
    "# You have two datasets that need to be combined\n",
    "dataset1 = {\"P001\": 85, \"P002\": 92, \"P003\": 78}\n",
    "dataset2 = {\"P002\": 94, \"P003\": 81, \"P004\": 89}\n",
    "\n",
    "# Create a function that merges them, taking the higher score when there's a conflict\n",
    "\n"
   ]
  },
  {
   "cell_type": "code",
   "execution_count": null,
   "metadata": {},
   "outputs": [],
   "source": [
    "# Challenge 2: Invert a dictionary\n",
    "# Given a dictionary mapping participant IDs to scores,\n",
    "# create a new dictionary mapping scores to lists of participant IDs\n",
    "# (since multiple participants might have the same score)\n",
    "\n",
    "scores = {\"P001\": 85, \"P002\": 92, \"P003\": 85, \"P004\": 78, \"P005\": 92}\n",
    "\n"
   ]
  }
 ],
 "metadata": {
  "kernelspec": {
   "display_name": "scRNA-seq",
   "language": "python",
   "name": "python3"
  },
  "language_info": {
   "codemirror_mode": {
    "name": "ipython",
    "version": 3
   },
   "file_extension": ".py",
   "mimetype": "text/x-python",
   "name": "python",
   "nbconvert_exporter": "python",
   "pygments_lexer": "ipython3",
   "version": "3.12.9"
  }
 },
 "nbformat": 4,
 "nbformat_minor": 4
}
