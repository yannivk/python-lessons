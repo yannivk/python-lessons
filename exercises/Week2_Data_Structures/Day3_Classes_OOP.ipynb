{
 "cells": [
  {
   "cell_type": "markdown",
   "metadata": {},
   "source": [
    "# Week 2, Day 3: Classes and Object-Oriented Programming\n",
    "\n",
    "## Programming Concept: Object-Oriented Programming (OOP)\n",
    "\n",
    "Today we'll learn about **classes and objects** - the foundation of object-oriented programming. This is a major shift from the procedural programming we've been doing with functions and simple data structures.\n",
    "\n",
    "### Key Programming Concepts:\n",
    "- **Classes**: Templates or blueprints for creating objects\n",
    "- **Objects**: Instances of classes that contain both data (attributes) and behavior (methods)\n",
    "- **Encapsulation**: Bundling data and methods together in a single unit\n",
    "- **Attributes**: Variables that belong to an object (instance variables)\n",
    "- **Methods**: Functions that belong to a class and operate on objects\n",
    "- **Constructor**: Special method (`__init__`) that initializes new objects\n",
    "\n",
    "### Why Object-Oriented Programming Matters:\n",
    "- **Code organization**: Group related data and functions together\n",
    "- **Reusability**: Create multiple instances with different data\n",
    "- **Modeling real-world entities**: Represent complex systems naturally\n",
    "- **Maintainability**: Changes to a class affect all instances consistently\n",
    "- **Scalability**: Build larger applications with manageable complexity"
   ]
  },
  {
   "cell_type": "markdown",
   "metadata": {},
   "source": [
    "## Exercise 1: Creating Your First Class\n",
    "\n",
    "Let's start by creating a simple class to represent a research participant. This will help us understand the basic syntax and concepts."
   ]
  },
  {
   "cell_type": "code",
   "execution_count": null,
   "metadata": {},
   "outputs": [],
   "source": [
    "# Example: Basic class definition\n",
    "class Participant:\n",
    "    def __init__(self, participant_id, age, group):\n",
    "        self.participant_id = participant_id\n",
    "        self.age = age\n",
    "        self.group = group\n",
    "        self.scores = []  # Empty list to store test scores\n",
    "    \n",
    "    def add_score(self, score):\n",
    "        self.scores.append(score)\n",
    "    \n",
    "    def get_average_score(self):\n",
    "        if len(self.scores) == 0:\n",
    "            return 0\n",
    "        return sum(self.scores) / len(self.scores)\n",
    "    \n",
    "    def display_info(self):\n",
    "        avg_score = self.get_average_score()\n",
    "        print(f\"Participant {self.participant_id}: Age {self.age}, Group {self.group}\")\n",
    "        print(f\"Scores: {self.scores}\")\n",
    "        print(f\"Average Score: {avg_score:.1f}\")\n",
    "\n",
    "# Create instances (objects) of the class\n",
    "participant1 = Participant(\"P001\", 25, \"A\")\n",
    "participant2 = Participant(\"P002\", 30, \"B\")\n",
    "\n",
    "# Use the objects\n",
    "participant1.add_score(85)\n",
    "participant1.add_score(92)\n",
    "participant1.display_info()\n",
    "\n",
    "print(\"\\n\" + \"-\"*40 + \"\\n\")\n",
    "\n",
    "participant2.add_score(78)\n",
    "participant2.add_score(88)\n",
    "participant2.add_score(91)\n",
    "participant2.display_info()"
   ]
  },
  {
   "cell_type": "code",
   "execution_count": null,
   "metadata": {},
   "outputs": [],
   "source": [
    "# Task 1a: Create your own Participant objects\n",
    "# Create three participants with different IDs, ages, and groups\n",
    "# Add different numbers of scores to each\n",
    "# Display their information\n",
    "\n"
   ]
  },
  {
   "cell_type": "code",
   "execution_count": null,
   "metadata": {},
   "outputs": [],
   "source": [
    "# Task 1b: Add a new method\n",
    "# Add a method called `get_highest_score()` to the Participant class\n",
    "# It should return the highest score, or 0 if no scores exist\n",
    "# Test it with your participants\n",
    "\n"
   ]
  },
  {
   "cell_type": "code",
   "execution_count": null,
   "metadata": {},
   "outputs": [],
   "source": [
    "# Task 1c: Understanding object independence\n",
    "# Create two participants with the same ID but add different scores\n",
    "# Show that they are independent objects (changing one doesn't affect the other)\n",
    "\n"
   ]
  },
  {
   "cell_type": "markdown",
   "metadata": {},
   "source": [
    "## Exercise 2: Class Attributes vs Instance Attributes\n",
    "\n",
    "Learn the difference between attributes shared by all instances (class attributes) and attributes unique to each instance."
   ]
  },
  {
   "cell_type": "code",
   "execution_count": null,
   "metadata": {},
   "outputs": [],
   "source": [
    "class Experiment:\n",
    "    # Class attribute - shared by all instances\n",
    "    total_experiments = 0\n",
    "    \n",
    "    def __init__(self, experiment_id, researcher):\n",
    "        # Instance attributes - unique to each object\n",
    "        self.experiment_id = experiment_id\n",
    "        self.researcher = researcher\n",
    "        self.participants = []\n",
    "        self.status = \"planned\"\n",
    "        \n",
    "        # Increment the class attribute when a new experiment is created\n",
    "        Experiment.total_experiments += 1\n",
    "    \n",
    "    def add_participant(self, participant):\n",
    "        self.participants.append(participant)\n",
    "    \n",
    "    def start_experiment(self):\n",
    "        self.status = \"running\"\n",
    "        print(f\"Experiment {self.experiment_id} is now running\")\n",
    "    \n",
    "    def complete_experiment(self):\n",
    "        self.status = \"completed\"\n",
    "        print(f\"Experiment {self.experiment_id} is now completed\")\n",
    "    \n",
    "    @classmethod\n",
    "    def get_total_experiments(cls):\n",
    "        return cls.total_experiments\n",
    "\n",
    "# Test the class\n",
    "exp1 = Experiment(\"EXP001\", \"Dr. Smith\")\n",
    "exp2 = Experiment(\"EXP002\", \"Dr. Jones\")\n",
    "\n",
    "print(f\"Total experiments created: {Experiment.get_total_experiments()}\")\n",
    "print(f\"Exp1 status: {exp1.status}\")\n",
    "print(f\"Exp2 status: {exp2.status}\")"
   ]
  },
  {
   "cell_type": "code",
   "execution_count": null,
   "metadata": {},
   "outputs": [],
   "source": [
    "# Task 2a: Create a Study class with class attributes\n",
    "# Create a Study class that tracks:\n",
    "# - Class attribute: total_studies (starts at 0)\n",
    "# - Instance attributes: study_name, duration_weeks, participant_count\n",
    "# Include methods to start and end the study\n",
    "\n"
   ]
  },
  {
   "cell_type": "code",
   "execution_count": null,
   "metadata": {},
   "outputs": [],
   "source": [
    "# Task 2b: Test class vs instance attributes\n",
    "# Create several Study objects and show how the class attribute changes\n",
    "# Show that instance attributes are independent between objects\n",
    "\n"
   ]
  },
  {
   "cell_type": "markdown",
   "metadata": {},
   "source": [
    "## Exercise 3: Special Methods (Magic Methods)\n",
    "\n",
    "Python classes can define special methods that control how objects behave with built-in functions and operators."
   ]
  },
  {
   "cell_type": "code",
   "execution_count": null,
   "metadata": {},
   "outputs": [],
   "source": [
    "class DataPoint:\n",
    "    def __init__(self, value, timestamp):\n",
    "        self.value = value\n",
    "        self.timestamp = timestamp\n",
    "    \n",
    "    def __str__(self):\n",
    "        # String representation for humans (print, str)\n",
    "        return f\"DataPoint(value={self.value}, time={self.timestamp})\"\n",
    "    \n",
    "    def __repr__(self):\n",
    "        # String representation for developers (repr, interactive shell)\n",
    "        return f\"DataPoint({self.value}, '{self.timestamp}')\"\n",
    "    \n",
    "    def __eq__(self, other):\n",
    "        # Equality comparison (==)\n",
    "        if isinstance(other, DataPoint):\n",
    "            return self.value == other.value and self.timestamp == other.timestamp\n",
    "        return False\n",
    "    \n",
    "    def __lt__(self, other):\n",
    "        # Less than comparison (<) - compare by value\n",
    "        if isinstance(other, DataPoint):\n",
    "            return self.value < other.value\n",
    "        return NotImplemented\n",
    "    \n",
    "    def __len__(self):\n",
    "        # Length function - return the number of digits in value\n",
    "        return len(str(abs(self.value)))\n",
    "\n",
    "# Test special methods\n",
    "dp1 = DataPoint(85, \"2025-01-08 10:30\")\n",
    "dp2 = DataPoint(92, \"2025-01-08 10:35\")\n",
    "dp3 = DataPoint(85, \"2025-01-08 10:30\")\n",
    "\n",
    "print(dp1)  # Uses __str__\n",
    "print(repr(dp2))  # Uses __repr__\n",
    "print(f\"dp1 == dp3: {dp1 == dp3}\")  # Uses __eq__\n",
    "print(f\"dp1 < dp2: {dp1 < dp2}\")  # Uses __lt__\n",
    "print(f\"Length of dp1: {len(dp1)}\")  # Uses __len__"
   ]
  },
  {
   "cell_type": "code",
   "execution_count": null,
   "metadata": {},
   "outputs": [],
   "source": [
    "# Task 3a: Add special methods to Participant class\n",
    "# Modify the Participant class to include:\n",
    "# - __str__: Return a readable description\n",
    "# - __eq__: Two participants are equal if they have the same ID\n",
    "# - __lt__: Compare participants by their average score\n",
    "\n"
   ]
  },
  {
   "cell_type": "code",
   "execution_count": null,
   "metadata": {},
   "outputs": [],
   "source": [
    "# Task 3b: Create a sortable list of participants\n",
    "# Create several participants with different scores\n",
    "# Sort them by average score and display the results\n",
    "\n"
   ]
  },
  {
   "cell_type": "markdown",
   "metadata": {},
   "source": [
    "## Exercise 4: Building a Complete System\n",
    "\n",
    "Let's combine everything we've learned to build a research data management system with multiple interacting classes."
   ]
  },
  {
   "cell_type": "code",
   "execution_count": null,
   "metadata": {},
   "outputs": [],
   "source": [
    "# Task 4a: Create a TestSession class\n",
    "# This class should represent a single testing session\n",
    "# Attributes: session_id, date, participant_id, test_scores (dict), duration_minutes\n",
    "# Methods: add_test_result(test_name, score), get_session_average(), is_complete()\n",
    "\n"
   ]
  },
  {
   "cell_type": "code",
   "execution_count": null,
   "metadata": {},
   "outputs": [],
   "source": [
    "# Task 4b: Create a ResearchDatabase class\n",
    "# This class manages multiple participants and sessions\n",
    "# Attributes: participants (dict), sessions (list), database_name\n",
    "# Methods: add_participant(), add_session(), get_participant_sessions(), calculate_group_stats()\n",
    "\n"
   ]
  },
  {
   "cell_type": "code",
   "execution_count": null,
   "metadata": {},
   "outputs": [],
   "source": [
    "# Task 4c: Build and test the complete system\n",
    "# Create a research database\n",
    "# Add several participants\n",
    "# Add multiple test sessions for each participant\n",
    "# Generate a summary report showing participant progress\n",
    "\n"
   ]
  },
  {
   "cell_type": "markdown",
   "metadata": {},
   "source": [
    "## Exercise 5: Practical Applications\n",
    "\n",
    "Let's apply OOP concepts to solve real-world programming problems."
   ]
  },
  {
   "cell_type": "code",
   "execution_count": null,
   "metadata": {},
   "outputs": [],
   "source": [
    "# Task 5a: Create a Statistics class\n",
    "# This class should calculate various statistics for a dataset\n",
    "# Methods: add_value(), mean(), median(), std_dev(), min(), max(), count()\n",
    "# Make it work with any numeric data\n",
    "\n"
   ]
  },
  {
   "cell_type": "code",
   "execution_count": null,
   "metadata": {},
   "outputs": [],
   "source": [
    "# Task 5b: Create a FileManager class\n",
    "# This class should handle reading and writing data files\n",
    "# Methods: save_data(), load_data(), backup_file(), get_file_info()\n",
    "# Should work with both JSON and CSV formats\n",
    "\n"
   ]
  },
  {
   "cell_type": "code",
   "execution_count": null,
   "metadata": {},
   "outputs": [],
   "source": [
    "# Task 5c: Integration challenge\n",
    "# Use your Statistics and FileManager classes together\n",
    "# Load data from a file, calculate statistics, and save results\n",
    "# Create a complete data analysis workflow\n",
    "\n"
   ]
  },
  {
   "cell_type": "markdown",
   "metadata": {},
   "source": [
    "## Challenge: Advanced OOP Concepts\n",
    "\n",
    "For those ready to explore more advanced object-oriented programming:"
   ]
  },
  {
   "cell_type": "code",
   "execution_count": null,
   "metadata": {},
   "outputs": [],
   "source": [
    "# Challenge 1: Property decorators\n",
    "# Create a class that uses @property to control access to attributes\n",
    "# Example: A Temperature class that can convert between Celsius and Fahrenheit\n",
    "\n",
    "class Temperature:\n",
    "    def __init__(self, celsius=0):\n",
    "        self._celsius = celsius\n",
    "    \n",
    "    @property\n",
    "    def celsius(self):\n",
    "        return self._celsius\n",
    "    \n",
    "    @celsius.setter\n",
    "    def celsius(self, value):\n",
    "        if value < -273.15:\n",
    "            raise ValueError(\"Temperature cannot be below absolute zero\")\n",
    "        self._celsius = value\n",
    "    \n",
    "    @property\n",
    "    def fahrenheit(self):\n",
    "        return (self._celsius * 9/5) + 32\n",
    "    \n",
    "    @fahrenheit.setter\n",
    "    def fahrenheit(self, value):\n",
    "        self.celsius = (value - 32) * 5/9\n",
    "\n",
    "# Test the Temperature class\n",
    "temp = Temperature(25)\n",
    "print(f\"25°C = {temp.fahrenheit}°F\")\n",
    "temp.fahrenheit = 86\n",
    "print(f\"86°F = {temp.celsius}°C\")"
   ]
  },
  {
   "cell_type": "code",
   "execution_count": null,
   "metadata": {},
   "outputs": [],
   "source": [
    "# Challenge 2: Context managers\n",
    "# Create a class that can be used with the 'with' statement\n",
    "# Example: A Timer class that measures execution time\n",
    "\n",
    "import time\n",
    "\n",
    "class Timer:\n",
    "    def __init__(self, name=\"Operation\"):\n",
    "        self.name = name\n",
    "        self.start_time = None\n",
    "        self.end_time = None\n",
    "    \n",
    "    def __enter__(self):\n",
    "        self.start_time = time.time()\n",
    "        print(f\"Starting {self.name}...\")\n",
    "        return self\n",
    "    \n",
    "    def __exit__(self, exc_type, exc_val, exc_tb):\n",
    "        self.end_time = time.time()\n",
    "        duration = self.end_time - self.start_time\n",
    "        print(f\"{self.name} completed in {duration:.3f} seconds\")\n",
    "    \n",
    "    def elapsed(self):\n",
    "        if self.start_time and self.end_time:\n",
    "            return self.end_time - self.start_time\n",
    "        return None\n",
    "\n",
    "# Test the Timer class\n",
    "with Timer(\"Data processing\") as timer:\n",
    "    # Simulate some work\n",
    "    time.sleep(0.1)\n",
    "    data = sum(range(100000))\n",
    "\n",
    "print(f\"Result: {data}\")"
   ]
  },
  {
   "cell_type": "code",
   "execution_count": null,
   "metadata": {},
   "outputs": [],
   "source": [
    "# Challenge 3: Create your own project\n",
    "# Design and implement a class system for a problem you're interested in\n",
    "# Ideas: Library book system, Student grade tracker, Game character system\n",
    "# Use multiple classes that interact with each other\n",
    "\n"
   ]
  }
 ],
 "metadata": {
  "kernelspec": {
   "display_name": "Python 3",
   "language": "python",
   "name": "python3"
  },
  "language_info": {
   "codemirror_mode": {
    "name": "ipython",
    "version": 3
   },
   "file_extension": ".py",
   "mimetype": "text/x-python",
   "name": "python",
   "nbconvert_exporter": "python",
   "pygments_lexer": "ipython3",
   "version": "3.8.5"
  }
 },
 "nbformat": 4,
 "nbformat_minor": 4
}