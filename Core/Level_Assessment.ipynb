{
 "cells": [
  {
   "cell_type": "markdown",
   "metadata": {},
   "source": [
    "# 🧬 Python Biology Level Assessment\n",
    "*Discover your coding baseline through biological problem-solving*\n",
    "\n",
    "## Instructions\n",
    "Work through these problems at your own pace. **Don't look anything up** - I want to see your natural problem-solving approach. Skip problems that seem too advanced.\n",
    "\n",
    "Your mistakes and approaches will inform your personalized curriculum.\n",
    "\n",
    "---"
   ]
  },
  {
   "cell_type": "markdown",
   "metadata": {},
   "source": [
    "## Problem 1: Cell Culture Data (Basic Variables & Types)\n",
    "\n",
    "A lab tech recorded cell counts from 3 culture dishes:\n",
    "- Dish A: 1,234,567 cells\n",
    "- Dish B: 987,321 cells  \n",
    "- Dish C: 1,456,789 cells\n",
    "\n",
    "**Tasks:**\n",
    "1. Store these values in appropriately named variables\n",
    "2. Calculate the total cell count\n",
    "3. Find the average cells per dish\n",
    "4. Determine which dish has the most cells"
   ]
  },
  {
   "cell_type": "code",
   "execution_count": null,
   "metadata": {},
   "outputs": [],
   "source": [
    "# Your solution here:\n"
   ]
  },
  {
   "cell_type": "markdown",
   "metadata": {},
   "source": [
    "## Problem 2: DNA Sequence Analysis (Strings)\n",
    "\n",
    "You have a DNA sequence: `\"ATCGATCGTAGCTAGCTA\"`\n",
    "\n",
    "**Tasks:**\n",
    "1. Count how many times each nucleotide (A, T, C, G) appears\n",
    "2. Calculate the GC content (percentage of G and C nucleotides)\n",
    "3. Find the complement sequence (A↔T, C↔G)\n",
    "4. Check if the sequence contains the start codon \"ATG\""
   ]
  },
  {
   "cell_type": "code",
   "execution_count": null,
   "metadata": {},
   "outputs": [],
   "source": [
    "dna_sequence = \"ATCGATCGTAGCTAGCTA\"\n",
    "\n",
    "# Your solution here:\n"
   ]
  },
  {
   "cell_type": "markdown",
   "metadata": {},
   "source": [
    "## Problem 3: Experimental Data (Lists & Loops)\n",
    "\n",
    "You measured enzyme activity at different temperatures (°C):\n",
    "`temperatures = [25, 30, 35, 40, 45, 50, 55]`\n",
    "`activities = [12, 18, 24, 31, 28, 19, 8]`\n",
    "\n",
    "**Tasks:**\n",
    "1. Find the temperature with maximum activity\n",
    "2. Calculate average activity across all temperatures\n",
    "3. Count how many temperatures gave activity > 20\n",
    "4. Create a list of \"high activity\" temperatures (activity > 25)"
   ]
  },
  {
   "cell_type": "code",
   "execution_count": null,
   "metadata": {},
   "outputs": [],
   "source": [
    "temperatures = [25, 30, 35, 40, 45, 50, 55]\n",
    "activities = [12, 18, 24, 31, 28, 19, 8]\n",
    "\n",
    "# Your solution here:\n"
   ]
  },
  {
   "cell_type": "markdown",
   "metadata": {},
   "source": [
    "## Problem 4: Growth Curve Function (Functions)\n",
    "\n",
    "Bacterial growth follows the equation: `population = initial_pop * 2^(time/doubling_time)`\n",
    "\n",
    "**Tasks:**\n",
    "1. Write a function called `bacterial_growth` that takes initial population, time, and doubling time as parameters\n",
    "2. Calculate population after 6 hours with initial=1000, doubling_time=2 hours\n",
    "3. Modify your function to also return the growth rate (population/time)\n",
    "4. Use your function to find when population reaches 50,000 (try different times)"
   ]
  },
  {
   "cell_type": "code",
   "execution_count": null,
   "metadata": {},
   "outputs": [],
   "source": [
    "# Your solution here:\n"
   ]
  },
  {
   "cell_type": "markdown",
   "metadata": {},
   "source": [
    "## Problem 5: Patient Data Dictionary (Dictionaries)\n",
    "\n",
    "You have patient genetic test results:\n",
    "```python\n",
    "patient_data = {\n",
    "    \"P001\": {\"age\": 34, \"gene_variants\": [\"BRCA1\", \"TP53\"], \"risk_score\": 0.73},\n",
    "    \"P002\": {\"age\": 45, \"gene_variants\": [\"BRCA2\"], \"risk_score\": 0.56},\n",
    "    \"P003\": {\"age\": 29, \"gene_variants\": [], \"risk_score\": 0.12}\n",
    "}\n",
    "```\n",
    "\n",
    "**Tasks:**\n",
    "1. Find all patients with risk_score > 0.5\n",
    "2. Calculate average age of high-risk patients\n",
    "3. Count total unique gene variants across all patients\n",
    "4. Add a new patient \"P004\" with your chosen values"
   ]
  },
  {
   "cell_type": "code",
   "execution_count": null,
   "metadata": {},
   "outputs": [],
   "source": [
    "patient_data = {\n",
    "    \"P001\": {\"age\": 34, \"gene_variants\": [\"BRCA1\", \"TP53\"], \"risk_score\": 0.73},\n",
    "    \"P002\": {\"age\": 45, \"gene_variants\": [\"BRCA2\"], \"risk_score\": 0.56},\n",
    "    \"P003\": {\"age\": 29, \"gene_variants\": [], \"risk_score\": 0.12}\n",
    "}\n",
    "\n",
    "# Your solution here:\n"
   ]
  },
  {
   "cell_type": "markdown",
   "metadata": {},
   "source": [
    "## Problem 6: Species Classification (Classes) - Advanced\n",
    "\n",
    "**Task:** Create a `Species` class to represent biological organisms\n",
    "\n",
    "Requirements:\n",
    "1. Initialize with name, kingdom, and population\n",
    "2. Method to check if species is endangered (population < 10,000)\n",
    "3. Method to simulate population growth (multiply by growth factor)\n",
    "4. Create 2 species instances and test your methods"
   ]
  },
  {
   "cell_type": "code",
   "execution_count": null,
   "metadata": {},
   "outputs": [],
   "source": [
    "# Your solution here:\n"
   ]
  },
  {
   "cell_type": "markdown",
   "metadata": {},
   "source": [
    "## Problem 7: Data Analysis Challenge (Pandas/NumPy) - Advanced\n",
    "\n",
    "**Skip if you haven't used pandas/numpy before**\n",
    "\n",
    "Create some mock gene expression data and analyze it:\n",
    "1. Generate data for 100 genes across 20 samples\n",
    "2. Find genes with highest average expression\n",
    "3. Identify samples with most similar expression patterns\n",
    "4. Create a simple visualization"
   ]
  },
  {
   "cell_type": "code",
   "execution_count": null,
   "metadata": {},
   "outputs": [],
   "source": [
    "# Your solution here (import libraries as needed):\n"
   ]
  },
  {
   "cell_type": "markdown",
   "metadata": {},
   "source": [
    "---\n",
    "\n",
    "## Reflection Questions\n",
    "\n",
    "**Answer in the cell below:**\n",
    "1. Which problems felt most challenging?\n",
    "2. What Python concepts do you want to improve most?\n",
    "3. How comfortable are you with biological data analysis?\n",
    "4. What specific biology topics interest you most?"
   ]
  },
  {
   "cell_type": "markdown",
   "metadata": {},
   "source": [
    "**Your reflection here:**\n",
    "\n",
    "1. Most challenging problems:\n",
    "\n",
    "2. Python concepts to improve:\n",
    "\n",
    "3. Biological data analysis comfort level:\n",
    "\n",
    "4. Biology topics of interest:\n"
   ]
  },
  {
   "cell_type": "markdown",
   "metadata": {},
   "source": [
    "---\n",
    "\n",
    "## Next Steps\n",
    "\n",
    "After completing this assessment:\n",
    "1. Save this notebook with your solutions\n",
    "2. Ask Claude Code to review your work\n",
    "3. Your personalized curriculum will be generated based on your performance\n",
    "4. Begin with Day 1 of your customized learning path!\n",
    "\n",
    "*Ready to start your biological coding journey?*"
   ]
  }
 ],
 "metadata": {
  "kernelspec": {
   "display_name": "Python 3",
   "language": "python",
   "name": "python3"
  },
  "language_info": {
   "codemirror_mode": {
    "name": "ipython",
    "version": 3
   },
   "file_extension": ".py",
   "name": "python",
   "nbconvert_exporter": "python",
   "pygments_lexer": "ipython3",
   "version": "3.8.5"
  }
 },
 "nbformat": 4,
 "nbformat_minor": 4
}
