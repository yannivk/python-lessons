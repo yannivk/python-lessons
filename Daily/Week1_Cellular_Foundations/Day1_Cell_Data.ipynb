{
 "cells": [
  {
   "cell_type": "markdown",
   "metadata": {},
   "source": [
    "# Day 1: The Cell Data Mystery 🧬\n",
    "*Variables as Molecules: Storing Life's Information*\n",
    "\n",
    "---\n",
    "\n",
    "## Today's Biological Mystery\n",
    "\n",
    "**\"Why do some cancer cells survive chemotherapy while others die?\"**\n",
    "\n",
    "A research lab has collected data from cancer cells before and after drug treatment. Your job: organize this data to find patterns that might explain drug resistance.\n",
    "\n",
    "Today you'll learn that **variables in Python are like molecules in a cell** - they store essential information that determines life or death.\n",
    "\n",
    "---"
   ]
  },
  {
   "cell_type": "markdown",
   "metadata": {},
   "source": [
    "## 🔬 The Biological Context\n",
    "\n",
    "Imagine you're a cancer researcher who just finished a crucial experiment:\n",
    "\n",
    "- **Before treatment**: 500,000 cancer cells in culture\n",
    "- **Drug concentration**: 2.5 micrograms per milliliter  \n",
    "- **Treatment duration**: 48 hours\n",
    "- **After treatment**: 47,000 cells survived\n",
    "- **Cell type**: \"HeLa\" (a famous cancer cell line)\n",
    "- **Drug name**: \"Cisplatin\"\n",
    "\n",
    "**Your biological question:** How effective was this treatment? What percentage of cells survived?\n",
    "\n",
    "**Your coding challenge:** Store this information in Python so we can analyze it."
   ]
  },
  {
   "cell_type": "markdown",
   "metadata": {},
   "source": [
    "## 💡 The Biological Analogy\n",
    "\n",
    "Think of **Python variables like molecules in a cell**:\n",
    "\n",
    "| Cell Biology | Python Programming |\n",
    "|---|---|\n",
    "| **Glucose molecule** stores energy | **Variable** stores a number |\n",
    "| **DNA sequence** stores genetic info | **String variable** stores text |\n",
    "| **Protein concentration** varies | **Variable value** can change |\n",
    "| **Molecule name** (like \"ATP\") | **Variable name** (like `cell_count`) |\n",
    "\n",
    "Just like cells need molecules to function, programs need variables to store and work with data!"
   ]
  },
  {
   "cell_type": "markdown",
   "metadata": {},
   "source": [
    "## 🧪 Lab Exercise 1: Store the Experimental Data\n",
    "\n",
    "**Your task:** Create variables to store each piece of experimental data.\n",
    "\n",
    "**Think like a biologist:** In your lab notebook, you'd write down each measurement. In Python, you'll store each measurement in a variable.\n",
    "\n",
    "**Hint:** Use descriptive names like a scientist would - `initial_cell_count` instead of `x`."
   ]
  },
  {
   "cell_type": "code",
   "execution_count": null,
   "metadata": {},
   "outputs": [],
   "source": [
    "# Store the experimental data in variables\n",
    "# Think: What would you write in your lab notebook?\n",
    "\n",
    "# Initial cell count before treatment\n",
    "initial_cell_count = # Your code here\n",
    "\n",
    "# Drug concentration (micrograms per mL)\n",
    "drug_concentration = # Your code here\n",
    "\n",
    "# Treatment duration (hours)\n",
    "treatment_hours = # Your code here\n",
    "\n",
    "# Surviving cells after treatment\n",
    "surviving_cells = # Your code here\n",
    "\n",
    "# Cell type (text/string)\n",
    "cell_type = # Your code here (remember quotes for text!)\n",
    "\n",
    "# Drug name (text/string)\n",
    "drug_name = # Your code here\n",
    "\n",
    "# Print your data to verify it's stored correctly\n",
    "print(f\"Experiment: {drug_name} treatment of {cell_type} cells\")\n",
    "print(f\"Initial cells: {initial_cell_count}\")\n",
    "print(f\"Surviving cells: {surviving_cells}\")"
   ]
  },
  {
   "cell_type": "markdown",
   "metadata": {},
   "source": [
    "## 🧪 Lab Exercise 2: Calculate Treatment Effectiveness\n",
    "\n",
    "**Your biological question:** What percentage of cells died? What percentage survived?\n",
    "\n",
    "**Think like a biologist:** \n",
    "- Cell death rate = (cells that died / initial cells) × 100\n",
    "- Survival rate = (surviving cells / initial cells) × 100\n",
    "\n",
    "**Your coding task:** Use your variables to calculate these rates."
   ]
  },
  {
   "cell_type": "code",
   "execution_count": null,
   "metadata": {},
   "outputs": [],
   "source": [
    "# Calculate how many cells died\n",
    "cells_died = # Your code here (hint: initial - surviving)\n",
    "\n",
    "# Calculate death rate as a percentage\n",
    "death_rate_percent = # Your code here (cells_died / initial * 100)\n",
    "\n",
    "# Calculate survival rate as a percentage  \n",
    "survival_rate_percent = # Your code here\n",
    "\n",
    "# Display your results\n",
    "print(f\"Treatment Results for {cell_type} cells:\")\n",
    "print(f\"Death rate: {death_rate_percent}%\")\n",
    "print(f\"Survival rate: {survival_rate_percent}%\")\n",
    "print(f\"Number of cells that died: {cells_died}\")"
   ]
  },
  {
   "cell_type": "markdown",
   "metadata": {},
   "source": [
    "## 🧪 Lab Exercise 3: Compare with Research Standards\n",
    "\n",
    "**Biological context:** In cancer research, a drug is considered:\n",
    "- **Highly effective** if survival rate < 20%\n",
    "- **Moderately effective** if survival rate is 20-50%\n",
    "- **Minimally effective** if survival rate > 50%\n",
    "\n",
    "**Your task:** Store these thresholds as variables and categorize your result."
   ]
  },
  {
   "cell_type": "code",
   "execution_count": null,
   "metadata": {},
   "outputs": [],
   "source": [
    "# Define effectiveness thresholds\n",
    "highly_effective_threshold = # Your code here (20)\n",
    "moderately_effective_threshold = # Your code here (50)\n",
    "\n",
    "# Determine effectiveness category\n",
    "print(f\"\\nTreatment Effectiveness Analysis:\")\n",
    "print(f\"Survival rate: {survival_rate_percent}%\")\n",
    "\n",
    "if survival_rate_percent < highly_effective_threshold:\n",
    "    effectiveness = \"Highly effective\"\n",
    "elif survival_rate_percent < moderately_effective_threshold:\n",
    "    effectiveness = \"Moderately effective\"  \n",
    "else:\n",
    "    effectiveness = \"Minimally effective\"\n",
    "\n",
    "print(f\"Classification: {effectiveness}\")\n",
    "\n",
    "# Store the effectiveness category in a variable\n",
    "treatment_effectiveness = effectiveness\n",
    "print(f\"\\nFinal assessment: {drug_name} is {treatment_effectiveness} against {cell_type} cells\")"
   ]
  },
  {
   "cell_type": "markdown",
   "metadata": {},
   "source": [
    "## 🧪 Lab Exercise 4: Drug Concentration Impact\n",
    "\n",
    "**New biological data:** Your lab tested the same drug at different concentrations:\n",
    "\n",
    "- **Low dose (1.0 μg/mL)**: 15% cell death\n",
    "- **Medium dose (2.5 μg/mL)**: Your result from above\n",
    "- **High dose (5.0 μg/mL)**: 95% cell death\n",
    "\n",
    "**Your task:** Store this data and find the relationship between dose and effectiveness."
   ]
  },
  {
   "cell_type": "code",
   "execution_count": null,
   "metadata": {},
   "outputs": [],
   "source": [
    "# Store dose-response data\n",
    "low_dose_concentration = 1.0\n",
    "low_dose_death_rate = 15.0\n",
    "\n",
    "medium_dose_concentration = # Your previous drug_concentration\n",
    "medium_dose_death_rate = # Your calculated death_rate_percent\n",
    "\n",
    "high_dose_concentration = 5.0\n",
    "high_dose_death_rate = 95.0\n",
    "\n",
    "# Calculate death rate per unit concentration for each dose\n",
    "low_dose_efficiency = # death rate / concentration\n",
    "medium_dose_efficiency = # Your code here\n",
    "high_dose_efficiency = # Your code here\n",
    "\n",
    "print(\"Dose-Response Analysis:\")\n",
    "print(f\"Low dose ({low_dose_concentration} μg/mL): {low_dose_death_rate}% death rate\")\n",
    "print(f\"Medium dose ({medium_dose_concentration} μg/mL): {medium_dose_death_rate}% death rate\")\n",
    "print(f\"High dose ({high_dose_concentration} μg/mL): {high_dose_death_rate}% death rate\")\n",
    "\n",
    "print(f\"\\nEfficiency (death rate per μg/mL):\")\n",
    "print(f\"Low dose efficiency: {low_dose_efficiency}%/μg/mL\")\n",
    "print(f\"Medium dose efficiency: {medium_dose_efficiency}%/μg/mL\")\n",
    "print(f\"High dose efficiency: {high_dose_efficiency}%/μg/mL\")"
   ]
  },
  {
   "cell_type": "markdown",
   "metadata": {},
   "source": [
    "## 🤔 Biological Reflection\n",
    "\n",
    "**Answer these questions by modifying the text below:**\n",
    "\n",
    "1. **What does the dose-response data tell you about this drug?**\n",
    "   *Your biological interpretation here...*\n",
    "\n",
    "2. **Why might some cells survive even high drug concentrations?**\n",
    "   *Your thoughts here...*\n",
    "\n",
    "3. **How do variables help us organize experimental data?**\n",
    "   *Your coding insight here...*"
   ]
  },
  {
   "cell_type": "markdown",
   "metadata": {},
   "source": [
    "## 🎯 Today's Key Insights\n",
    "\n",
    "### Biological Concepts:\n",
    "- Drug dose-response relationships\n",
    "- Cancer cell survival mechanisms\n",
    "- Experimental data interpretation\n",
    "\n",
    "### Programming Concepts:\n",
    "- **Variables** store data like molecules store information\n",
    "- **Descriptive naming** makes code readable like lab notes\n",
    "- **Calculations** reveal patterns in biological data\n",
    "- **Data types** (numbers vs. text) match different biological measurements\n",
    "\n",
    "### The Connection:\n",
    "Just as cells organize molecules to carry out life processes, programs organize variables to carry out computational processes. Both require careful organization and meaningful names!\n",
    "\n",
    "---\n",
    "\n",
    "## 📋 Before You Finish\n",
    "\n",
    "1. **Save this notebook** with your completed solutions\n",
    "2. **Ask Claude Code to review your work**: \"Claude, please review my Day1_Cell_Data.ipynb notebook\"\n",
    "3. **Reflect on challenges**: What felt difficult? What was intuitive?\n",
    "4. **Preview tomorrow**: Day 2 explores DNA sequences as strings\n",
    "\n",
    "**Tomorrow's mystery:** \"Why do some genetic mutations cause disease while others are harmless?\"\n",
    "\n",
    "*Great work thinking like a computational biologist! 🧬🐍*"
   ]
  }
 ],
 "metadata": {
  "kernelspec": {
   "display_name": "Python 3",
   "language": "python",
   "name": "python3"
  },
  "language_info": {
   "codemirror_mode": {
    "name": "ipython",
    "version": 3
   },
   "file_extension": ".py",
   "name": "python",
   "nbconvert_exporter": "python",
   "pygments_lexer": "ipython3",
   "version": "3.8.5"
  }
 },
 "nbformat": 4,
 "nbformat_minor": 4
}