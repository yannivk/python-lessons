{
 "cells": [
  {
   "cell_type": "markdown",
   "metadata": {},
   "source": [
    "# Python Level Assessment\n",
    "*Discover your programming baseline through problem-solving*\n",
    "\n",
    "## Instructions\n",
    "Work through these problems at your own pace. **Don't look anything up** - I want to see your natural problem-solving approach. Skip problems that seem too advanced.\n",
    "\n",
    "This assessment will help me understand your current skills and create a personalized learning plan.\n",
    "\n",
    "---"
   ]
  },
  {
   "cell_type": "markdown",
   "metadata": {},
   "source": [
    "## Problem 1: Cell Culture Data (Basic Variables & Types)\n",
    "\n",
    "A lab tech recorded cell counts from 3 culture dishes:\n",
    "- Dish A: 1,234,567 cells\n",
    "- Dish B: 987,321 cells  \n",
    "- Dish C: 1,456,789 cells\n",
    "\n",
    "**Tasks:**\n",
    "1. Store these values in appropriately named variables\n",
    "2. Calculate the total cell count\n",
    "3. Find the average cells per dish\n",
    "4. Determine which dish has the most cells"
   ]
  },
  {
   "cell_type": "code",
   "execution_count": 4,
   "metadata": {},
   "outputs": [
    {
     "name": "stdout",
     "output_type": "stream",
     "text": [
      "3678677\n",
      "1226225.6666666667\n",
      "dish_C has the most cells\n"
     ]
    }
   ],
   "source": [
    "# Your solution here:\n",
    "#1.\n",
    "dish_A = int(1234567)\n",
    "dish_B = int(987321)\n",
    "dish_C = int(1456789)\n",
    "\n",
    "#2.\n",
    "total_cell_count = dish_A + dish_B + dish_C\n",
    "print(total_cell_count)\n",
    "\n",
    "#3.\n",
    "import numpy as np\n",
    "\n",
    "avg_cells = np.mean([dish_A, dish_B, dish_C])\n",
    "print(avg_cells)\n",
    "\n",
    "#4.\n",
    "if dish_A > dish_B & dish_A > dish_C:\n",
    "    print(\"dish_A has the most cells\")\n",
    "elif dish_B > dish_A & dish_B > dish_C:\n",
    "    print(\"dish_B has the most cells\")\n",
    "else:\n",
    "    print(\"dish_C has the most cells\")\n"
   ]
  },
  {
   "cell_type": "markdown",
   "metadata": {},
   "source": [
    "## Problem 2: DNA Sequence Analysis (Strings)\n",
    "\n",
    "You have a DNA sequence: `\"ATCGATCGTAGCTAGCTA\"`\n",
    "\n",
    "**Tasks:**\n",
    "1. Count how many times each nucleotide (A, T, C, G) appears\n",
    "2. Calculate the GC content (percentage of G and C nucleotides)\n",
    "3. Find the complement sequence (A↔T, C↔G)\n",
    "4. Check if the sequence contains the start codon \"ATG\""
   ]
  },
  {
   "cell_type": "code",
   "execution_count": 14,
   "metadata": {},
   "outputs": [
    {
     "name": "stdout",
     "output_type": "stream",
     "text": [
      "There are 5 Adenine in ATCGATCGTAGCTAGCTA\n",
      "There are 5 Thymine in ATCGATCGTAGCTAGCTA\n",
      "There are 4 Guanine in ATCGATCGTAGCTAGCTA\n",
      "There are 4 Cytosine in ATCGATCGTAGCTAGCTA\n",
      "ATCGATCGTAGCTAGCTA has a GC content of 44.44444444444444%\n",
      "TAGCTAGCATCGATCGAT\n",
      "Sequence does not contain ATG\n"
     ]
    }
   ],
   "source": [
    "dna_sequence = \"ATCGATCGTAGCTAGCTA\"\n",
    "\n",
    "# Your solution here:\n",
    "#1.\n",
    "A = dna_sequence.count('A')\n",
    "T = dna_sequence.count('T')\n",
    "G = dna_sequence.count('G')\n",
    "C = dna_sequence.count('C')\n",
    "\n",
    "print(f\"There are {A} Adenine in {dna_sequence}\")\n",
    "print(f\"There are {T} Thymine in {dna_sequence}\")\n",
    "print(f\"There are {G} Guanine in {dna_sequence}\")\n",
    "print(f\"There are {C} Cytosine in {dna_sequence}\")\n",
    "\n",
    "#2.\n",
    "dna_length = len(dna_sequence)\n",
    "GC = ((G+C)/dna_length)*100\n",
    "print(f\"{dna_sequence} has a GC content of {GC}%\")\n",
    "\n",
    "#3.\n",
    "complement = {'A': 'T', 'C': 'G', 'G': 'C', 'T': 'A'}\n",
    "complement_dna_sequence = \"\".join(complement[base] for base in dna_sequence)\n",
    "print(complement_dna_sequence)\n",
    "\n",
    "#4.\n",
    "if \"ATG\" in dna_sequence:\n",
    "    print(\"Sequence contains ATG\")\n",
    "else:\n",
    "    print(\"Sequence does not contain ATG\")\n"
   ]
  },
  {
   "cell_type": "markdown",
   "metadata": {},
   "source": [
    "## Problem 3: Experimental Data (Lists & Loops)\n",
    "\n",
    "You measured enzyme activity at different temperatures (°C):\n",
    "`temperatures = [25, 30, 35, 40, 45, 50, 55]`\n",
    "`activities = [12, 18, 24, 31, 28, 19, 8]`\n",
    "\n",
    "**Tasks:**\n",
    "1. Find the temperature with maximum activity\n",
    "2. Calculate average activity across all temperatures\n",
    "3. Count how many temperatures gave activity > 20\n",
    "4. Create a list of \"high activity\" temperatures (activity > 25)"
   ]
  },
  {
   "cell_type": "code",
   "execution_count": 25,
   "metadata": {},
   "outputs": [
    {
     "name": "stdout",
     "output_type": "stream",
     "text": [
      "The maximum activity of 31 is reached at 40C\n",
      "The average activity is 20.0\n",
      "3\n",
      "[40, 45]\n"
     ]
    }
   ],
   "source": [
    "temperatures = [25, 30, 35, 40, 45, 50, 55]\n",
    "activities = [12, 18, 24, 31, 28, 19, 8]\n",
    "\n",
    "# Your solution here:\n",
    "#1.\n",
    "max_activity = max(activities)\n",
    "max_temp = temperatures[activities.index(max_activity)]\n",
    "print(f\"The maximum activity of {max_activity} is reached at {max_temp}C\")\n",
    "\n",
    "#2. \n",
    "import numpy as np\n",
    "avg_activity = np.mean(activities)\n",
    "print(f\"The average activity is {avg_activity}\")\n",
    "\n",
    "#3.\n",
    "count = sum(1 for i in activities if i > 20)\n",
    "print(count)\n",
    "\n",
    "#4. \n",
    "high_temperatures = [temp for temp, act in zip(temperatures, activities) if act > 25]\n",
    "print(high_temperatures)"
   ]
  },
  {
   "cell_type": "markdown",
   "metadata": {},
   "source": [
    "## Problem 4: Growth Curve Function (Functions)\n",
    "\n",
    "Bacterial growth follows the equation: `population = initial_pop * 2^(time/doubling_time)`\n",
    "\n",
    "**Tasks:**\n",
    "1. Write a function called `bacterial_growth` that takes initial population, time, and doubling time as parameters\n",
    "2. Calculate population after 6 hours with initial=1000, doubling_time=2 hours\n",
    "3. Modify your function to also return the growth rate (population/time)\n",
    "4. Use your function to find when population reaches 50,000 (try different times)"
   ]
  },
  {
   "cell_type": "code",
   "execution_count": 37,
   "metadata": {},
   "outputs": [
    {
     "name": "stdout",
     "output_type": "stream",
     "text": [
      "8000.0\n",
      "(1414.213562373095, 1414.213562373095)\n",
      "(2000.0, 1000.0)\n",
      "(2828.42712474619, 942.8090415820634)\n",
      "(4000.0, 1000.0)\n",
      "(5656.85424949238, 1131.370849898476)\n",
      "(8000.0, 1333.3333333333333)\n",
      "(11313.70849898476, 1616.2440712835373)\n",
      "(16000.0, 2000.0)\n",
      "(22627.41699796952, 2514.1574442188357)\n",
      "(32000.0, 3200.0)\n",
      "(45254.83399593904, 4114.075817812641)\n",
      "(64000.0, 5333.333333333333)\n",
      "(90509.66799187809, 6962.282153221391)\n",
      "(128000.0, 9142.857142857143)\n",
      "(181019.33598375617, 12067.955732250412)\n",
      "(256000.0, 16000.0)\n",
      "(362038.67196751235, 21296.392468677197)\n",
      "(512000.0, 28444.444444444445)\n",
      "(724077.3439350247, 38109.33389131709)\n",
      "(1024000.0, 51200.0)\n",
      "64000.0\n",
      "50,000 cells reached after\n"
     ]
    }
   ],
   "source": [
    "# Your solution here:\n",
    "#1. \n",
    "def bacterial_growth(initial, time, doubling_time):\n",
    "    population = initial * 2**(time/doubling_time)\n",
    "    return(population)\n",
    "\n",
    "#2. \n",
    "print(bacterial_growth(1000, 6, 2))\n",
    "\n",
    "#3.\n",
    "def bacterial_growth_rate(initial, time, doubling_time):\n",
    "    population = initial * 2**(time/doubling_time)\n",
    "    growth_rate = population/time\n",
    "    return(population, growth_rate)\n",
    "\n",
    "#4. \n",
    "for i in range(1,21):\n",
    "    a = bacterial_growth_rate(1000, i, 2)\n",
    "    print(a)\n",
    "\n",
    "print(bacterial_growth(1000, 12, 2))\n",
    "print(\"50,000 cells reached after 12 hours\")"
   ]
  },
  {
   "cell_type": "markdown",
   "metadata": {},
   "source": [
    "## Problem 5: Patient Data Dictionary (Dictionaries)\n",
    "\n",
    "You have patient genetic test results:\n",
    "```python\n",
    "patient_data = {\n",
    "    \"P001\": {\"age\": 34, \"gene_variants\": [\"BRCA1\", \"TP53\"], \"risk_score\": 0.73},\n",
    "    \"P002\": {\"age\": 45, \"gene_variants\": [\"BRCA2\"], \"risk_score\": 0.56},\n",
    "    \"P003\": {\"age\": 29, \"gene_variants\": [], \"risk_score\": 0.12}\n",
    "}\n",
    "```\n",
    "\n",
    "**Tasks:**\n",
    "1. Find all patients with risk_score > 0.5\n",
    "2. Calculate average age of high-risk patients\n",
    "3. Count total unique gene variants across all patients\n",
    "4. Add a new patient \"P004\" with your chosen values"
   ]
  },
  {
   "cell_type": "code",
   "execution_count": null,
   "metadata": {},
   "outputs": [],
   "source": [
    "patient_data = {\n",
    "    \"P001\": {\"age\": 34, \"gene_variants\": [\"BRCA1\", \"TP53\"], \"risk_score\": 0.73},\n",
    "    \"P002\": {\"age\": 45, \"gene_variants\": [\"BRCA2\"], \"risk_score\": 0.56},\n",
    "    \"P003\": {\"age\": 29, \"gene_variants\": [], \"risk_score\": 0.12}\n",
    "}\n",
    "\n",
    "# Your solution here:\n",
    "#1. \n",
    "high_risk_patients = {patient_id: data for patient_id, data in patient_data.items() if data[\"risk_score\"] > 0.5}"
   ]
  },
  {
   "cell_type": "markdown",
   "metadata": {},
   "source": [
    "## Problem 6: Species Classification (Classes) - Advanced\n",
    "\n",
    "**Task:** Create a `Species` class to represent biological organisms\n",
    "\n",
    "Requirements:\n",
    "1. Initialize with name, kingdom, and population\n",
    "2. Method to check if species is endangered (population < 10,000)\n",
    "3. Method to simulate population growth (multiply by growth factor)\n",
    "4. Create 2 species instances and test your methods"
   ]
  },
  {
   "cell_type": "code",
   "execution_count": null,
   "metadata": {},
   "outputs": [],
   "source": [
    "# Your solution here:\n",
    "class Species(name, kingdom, population):\n",
    "    name.init = name"
   ]
  },
  {
   "cell_type": "markdown",
   "metadata": {},
   "source": [
    "## Problem 7: Data Analysis Challenge (Pandas/NumPy) - Advanced\n",
    "\n",
    "**Skip if you haven't used pandas/numpy before**\n",
    "\n",
    "Create some mock gene expression data and analyze it:\n",
    "1. Generate data for 100 genes across 20 samples\n",
    "2. Find genes with highest average expression\n",
    "3. Identify samples with most similar expression patterns\n",
    "4. Create a simple visualization"
   ]
  },
  {
   "cell_type": "code",
   "execution_count": 38,
   "metadata": {},
   "outputs": [],
   "source": [
    "# Your solution here (import libraries as needed):\n",
    "#1. \n",
    "import pandas as pd\n",
    "import numpy as np\n",
    "\n",
    "df = pd.DataFrame(np.random.randint(0,1000, size=(100,20)))\n",
    "\n"
   ]
  },
  {
   "cell_type": "markdown",
   "metadata": {},
   "source": [
    "---\n",
    "\n",
    "## Reflection Questions\n",
    "\n",
    "**Answer in the cell below:**\n",
    "1. Which problems felt most challenging?\n",
    "2. What Python concepts do you want to improve most?\n",
    "3. How comfortable are you with biological data analysis?\n",
    "4. What specific biology topics interest you most?"
   ]
  },
  {
   "cell_type": "markdown",
   "metadata": {},
   "source": [
    "**Your reflection here:**\n",
    "\n",
    "1. Most challenging problems: i havent worked too much with dictionaries, also i struggled with classes, as i have never been taught about them. the last advanced topic was also difficult\n",
    "\n",
    "2. Python concepts to improve: I want to improve basic concepts as necessary first\n",
    "\n",
    "3. Biological data analysis comfort level: Should be okay\n",
    "\n",
    "4. Biology topics of interest: Doesnt matter, not all examples have to be related to biology.\n"
   ]
  },
  {
   "cell_type": "markdown",
   "metadata": {},
   "source": [
    "---\n",
    "\n",
    "## Next Steps\n",
    "\n",
    "After completing this assessment:\n",
    "1. Save this notebook with your solutions\n",
    "2. Ask Claude Code to review your work and create your personalized learning plan\n",
    "3. Start with your first recommended exercise\n",
    "\n",
    "*Ready to begin learning Python?*"
   ]
  }
 ],
 "metadata": {
  "kernelspec": {
   "display_name": "scRNA-seq",
   "language": "python",
   "name": "python3"
  },
  "language_info": {
   "codemirror_mode": {
    "name": "ipython",
    "version": 3
   },
   "file_extension": ".py",
   "mimetype": "text/x-python",
   "name": "python",
   "nbconvert_exporter": "python",
   "pygments_lexer": "ipython3",
   "version": "3.12.9"
  }
 },
 "nbformat": 4,
 "nbformat_minor": 4
}
